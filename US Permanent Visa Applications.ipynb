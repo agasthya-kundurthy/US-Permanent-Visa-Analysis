{
 "cells": [
  {
   "cell_type": "markdown",
   "metadata": {},
   "source": [
    "# U.S. Permanent Visa - Certified or Denied?"
   ]
  },
  {
   "cell_type": "markdown",
   "metadata": {},
   "source": [
    "As of 2017, there were 45M immigrants or simply 13.5% of the population in USA constituted of immigrants, which is a lot in number. People migrate to USA to attain world class education, get jobs and make money as USA is believed to be one of the superpowers. There is a lot of analysis on why people migrated to USA done by Data Scientists, but for this exercise we three data geeks are concentrating on finding the criteria(s) that influences or could influence the Permanent Visa decision. We will use decision tree classification to understand what drives approval.\n",
    "\n",
    "In this project we will be using U.S. permanent visa dataset.\n",
    "`us_perm_visas.csv` data (Source: [Link](https://www.kaggle.com/jboysen/us-perm-visas/data)).\n",
    "\n",
    "** Project Process Index:**\n",
    "\n",
    "1. Data cleaning and preparation\n",
    "2. Data exploration using pandas\n",
    "    * What are the `Economic sectors` for which application are filed and which sector has the highest percentage of application\n",
    "    * Which are the `Top 10 employer states` filing for the visa\n",
    "    * What are the `Top 10 companies` mostly filing for the visa\n",
    "    * What is the `Citizenship of employees` for which application is filed\n",
    "    * What is the `Visa type` of the applications- this is the visa status at the time they enter US for the first time.\n",
    "    * What is the `Education Background` of the applicants   \n",
    "3. Finding-1\n",
    "   * Due to 2010 recession, we assume that IT sector's permanent visa applications must have been affected the most and expect to see the higher rate of denials.\n",
    "   * Conclusion of Finding-1\n",
    "4. Finding-2\n",
    "    * Is the visa approval rate for H-1B and F1 constant over the years?\n",
    "    * Which are the 10 companies with highest denial rate\n",
    "    * Is there any specific reason behind the company with highest denial rate? if yes then what it is?\n",
    "    * Conclusion of Finding-2\n",
    "5. Finding-3\n",
    "    * We assume that permanent work visa must be tougher to get compared to H1B visa's, is it true?\n",
    "    * Conclusion of Finding-3\n",
    "6. Classification\n",
    "    * Preprocessing the column using LabelEncoder\n",
    "    * Developing the decision tree\n",
    "    * Interpreting the decision tree\n",
    "    * SMOTE analysis   \n",
    "7. Conclusion \n",
    "8. Roadmap to Future"
   ]
  },
  {
   "cell_type": "markdown",
   "metadata": {},
   "source": [
    "Reference:\n",
    "* https://www.migrationpolicy.org/programs/data-hub/charts/immigrant-population-over-time\n",
    "\n",
    "--------"
   ]
  },
  {
   "cell_type": "markdown",
   "metadata": {},
   "source": [
    "## Importing necessary Packages & Dataset"
   ]
  },
  {
   "cell_type": "code",
   "execution_count": 1,
   "metadata": {},
   "outputs": [],
   "source": [
    "import numpy as np\n",
    "import pandas as pd\n",
    "import seaborn as sns\n",
    "import datetime as dt\n",
    "import sklearn as sk\n",
    "import sklearn.tree as tree\n",
    "import sklearn.preprocessing as pp\n",
    "import sklearn.metrics as sm\n",
    "\n",
    "import graphviz\n",
    "\n",
    "from IPython.core.interactiveshell import InteractiveShell\n",
    "InteractiveShell.ast_node_interactivity = \"all\"\n",
    "\n",
    "%matplotlib inline\n",
    "import matplotlib.pyplot as plt\n"
   ]
  },
  {
   "cell_type": "code",
   "execution_count": 2,
   "metadata": {},
   "outputs": [],
   "source": [
    "#Certain warnings could not be solved, so they are ignored!\n",
    "import warnings\n",
    "warnings.filterwarnings('ignore')"
   ]
  },
  {
   "cell_type": "code",
   "execution_count": 3,
   "metadata": {},
   "outputs": [],
   "source": [
    "visa = pd.read_csv('us_perm_visas.csv', low_memory=False,encoding='latin-1') "
   ]
  },
  {
   "cell_type": "markdown",
   "metadata": {},
   "source": [
    "You can download the Dataset from the following link \n",
    "\n",
    "- https://drive.google.com/file/d/1y7XABII6aKFkrwt0FrewUmAIuwXTuWbl/view?usp=sharing"
   ]
  },
  {
   "cell_type": "code",
   "execution_count": 4,
   "metadata": {},
   "outputs": [
    {
     "name": "stdout",
     "output_type": "stream",
     "text": [
      "Number of Visa Applications: 374362\n",
      "Number of Columns: 154\n"
     ]
    }
   ],
   "source": [
    "print('Number of Visa Applications:', len(visa))\n",
    "print('Number of Columns:', len(visa.columns))"
   ]
  },
  {
   "cell_type": "markdown",
   "metadata": {},
   "source": [
    "We have very large amount of data in terms of characteristics of a record, with many irrelevant column for our analysis (explained below). Thus will just keep limited number of columns for further analysis\n",
    "\n",
    "Our data is from 2011 - 2016 which is decent enough to do some analysis.\n",
    "\n",
    "Now that we have seen the amount of data and the number columns, we are ready to start the cleaning of the data based on what we require.\n",
    "\n",
    "Reference:\n",
    "- https://stackoverflow.com/questions/9031783/hide-all-warnings-in-ipython\n",
    "\n",
    "------------"
   ]
  },
  {
   "cell_type": "markdown",
   "metadata": {},
   "source": [
    "## Cleaning the dataset"
   ]
  },
  {
   "cell_type": "markdown",
   "metadata": {},
   "source": [
    "#### Keeping relevant column for our analysis"
   ]
  },
  {
   "cell_type": "code",
   "execution_count": 5,
   "metadata": {},
   "outputs": [],
   "source": [
    "visa_trans = visa[['case_no', 'case_number', 'case_status', 'class_of_admission', 'country_of_citizenship', 'country_of_citzenship', 'decision_date', 'employer_country', 'employer_name', 'employer_state', 'foreign_worker_info_education', 'naics_2007_us_title', 'pw_amount_9089', 'pw_unit_of_pay_9089', 'us_economic_sector']].copy()"
   ]
  },
  {
   "cell_type": "markdown",
   "metadata": {},
   "source": [
    "We have chosen the above mentioned (in code) specific columns for various reasons.\n",
    "* Many columns had only NaN values.\n",
    "* Some columns had a small percentage of data and the rest was NaN. This might not add any relevance and they would not help with the analysis of the dataset or in training a model for prediction.\n",
    "* Some columns has A, Y, N values and we could not find any detail of it online."
   ]
  },
  {
   "cell_type": "markdown",
   "metadata": {},
   "source": [
    "#### Cleaning Case Number"
   ]
  },
  {
   "cell_type": "markdown",
   "metadata": {},
   "source": [
    "The case number values are split into two columns, `case_no` and `case_number`, hence we are going to blend the two columns."
   ]
  },
  {
   "cell_type": "code",
   "execution_count": 6,
   "metadata": {},
   "outputs": [],
   "source": [
    "visa_trans['case_no'].fillna(visa_trans['case_number'], inplace=True)"
   ]
  },
  {
   "cell_type": "code",
   "execution_count": 7,
   "metadata": {},
   "outputs": [],
   "source": [
    "visa_trans=visa_trans.drop(['case_number'], axis=1)"
   ]
  },
  {
   "cell_type": "code",
   "execution_count": 8,
   "metadata": {},
   "outputs": [
    {
     "data": {
      "text/plain": [
       "False"
      ]
     },
     "execution_count": 8,
     "metadata": {},
     "output_type": "execute_result"
    }
   ],
   "source": [
    "visa_trans['case_no'].isnull().any()"
   ]
  },
  {
   "cell_type": "markdown",
   "metadata": {},
   "source": [
    "We can see that there is no null values in this column. "
   ]
  },
  {
   "cell_type": "markdown",
   "metadata": {},
   "source": [
    "#### Cleaning H1-B values in class_of_admission column"
   ]
  },
  {
   "cell_type": "code",
   "execution_count": 9,
   "metadata": {},
   "outputs": [
    {
     "data": {
      "text/plain": [
       "array(['J-1', 'B-2', 'H-1B', 'L-1', 'EWI', 'E-2', 'E-1', 'H-2B', 'TPS',\n",
       "       'F-1', 'B-1', 'C-1', 'Not in USA', 'TN', 'H-4', 'O-1', 'R-1',\n",
       "       'L-2', 'Q', 'F-2', 'H-1B1', 'Parolee', 'G-5', 'E-3', 'H-2A', 'VWT',\n",
       "       'P-1', 'A1/A2', 'D-1', 'A-3', 'R-2', 'H-1C', 'H-3', 'J-2', 'P-4',\n",
       "       'I', 'H-1A', 'G-1', 'VWB', 'G-4', 'P-3', 'AOS/H-1B', 'O-3',\n",
       "       'Parol', 'O-2', 'H1B', 'N', 'T-1', 'TD', 'M-1', 'K-1', 'U-1',\n",
       "       'AOS', 'P-2', 'C-3', 'V-2', 'M-2'], dtype=object)"
      ]
     },
     "execution_count": 9,
     "metadata": {},
     "output_type": "execute_result"
    }
   ],
   "source": [
    "visa_trans['class_of_admission'].unique()"
   ]
  },
  {
   "cell_type": "markdown",
   "metadata": {},
   "source": [
    "H-1B values are in the format \"AOS/H-1B\", \"H1B\" and hence we need to replace them to one format which we have chosen as \"H-1B\"."
   ]
  },
  {
   "cell_type": "code",
   "execution_count": 10,
   "metadata": {},
   "outputs": [],
   "source": [
    "visa_trans['class_of_admission']=visa_trans['class_of_admission'].replace(['AOS/H-1B','H1B'],'H-1B')"
   ]
  },
  {
   "cell_type": "markdown",
   "metadata": {},
   "source": [
    "We want to keep only those records which has visa type values in the `class_of_admission` column, for our analysis."
   ]
  },
  {
   "cell_type": "code",
   "execution_count": 11,
   "metadata": {},
   "outputs": [],
   "source": [
    "visa_trans = visa_trans[pd.notnull(visa_trans['class_of_admission'])]"
   ]
  },
  {
   "cell_type": "markdown",
   "metadata": {},
   "source": [
    "#### Cleaning Decision Date"
   ]
  },
  {
   "cell_type": "markdown",
   "metadata": {},
   "source": [
    "Converting the decision date in to datetime format for analysis."
   ]
  },
  {
   "cell_type": "code",
   "execution_count": 12,
   "metadata": {},
   "outputs": [],
   "source": [
    "visa_trans['decision_date']= pd.to_datetime(visa_trans['decision_date'],errors='coerce')"
   ]
  },
  {
   "cell_type": "markdown",
   "metadata": {},
   "source": [
    "Creating a year column that only contains the year value from decision date for our year-year analysis."
   ]
  },
  {
   "cell_type": "code",
   "execution_count": 13,
   "metadata": {},
   "outputs": [],
   "source": [
    "visa_trans['year']=visa_trans['decision_date'].dt.year"
   ]
  },
  {
   "cell_type": "markdown",
   "metadata": {},
   "source": [
    "Since we have created the year column and dont need the decision date column we will drop this."
   ]
  },
  {
   "cell_type": "code",
   "execution_count": 14,
   "metadata": {},
   "outputs": [],
   "source": [
    "visa_trans.drop(['decision_date'], axis=1,inplace=True)"
   ]
  },
  {
   "cell_type": "markdown",
   "metadata": {},
   "source": [
    "#### Cleaning case_status Column"
   ]
  },
  {
   "cell_type": "markdown",
   "metadata": {},
   "source": [
    "Checking for any null values in the case status column "
   ]
  },
  {
   "cell_type": "code",
   "execution_count": 15,
   "metadata": {},
   "outputs": [
    {
     "data": {
      "text/plain": [
       "False"
      ]
     },
     "execution_count": 15,
     "metadata": {},
     "output_type": "execute_result"
    }
   ],
   "source": [
    "visa_trans['case_status'].isnull().any()"
   ]
  },
  {
   "cell_type": "code",
   "execution_count": 16,
   "metadata": {},
   "outputs": [
    {
     "name": "stdout",
     "output_type": "stream",
     "text": [
      "171844  occurrences of status 'Certified'\n",
      "21198  occurrences of status 'Denied'\n",
      "142041  occurrences of status 'Certified-Expired'\n",
      "16434  occurrences of status 'Withdrawn'\n"
     ]
    }
   ],
   "source": [
    "for value in visa_trans.case_status.unique():\n",
    "    print(len(visa_trans[visa_trans['case_status'] == value]),\" occurrences of status '{}'\".format(value))"
   ]
  },
  {
   "cell_type": "markdown",
   "metadata": {},
   "source": [
    "Since our dataset contains some records with status \"Withdrawn\", for our further analysis we will remove them from the dataset.\n",
    "\n",
    "For the cases where status is \"Certified\" or \"Certified-Expired\" we will transform them to just one value \"Certified\" so that we will end up having only the desired value \"Certified\" and \"Denied\". "
   ]
  },
  {
   "cell_type": "code",
   "execution_count": 17,
   "metadata": {},
   "outputs": [],
   "source": [
    "visa_trans=visa_trans[visa_trans['case_status']!='Withdrawn']"
   ]
  },
  {
   "cell_type": "code",
   "execution_count": 18,
   "metadata": {},
   "outputs": [],
   "source": [
    "visa_trans['case_status']=visa_trans['case_status'].replace(['Certified-Expired'],'Certified')"
   ]
  },
  {
   "cell_type": "code",
   "execution_count": 19,
   "metadata": {
    "scrolled": true
   },
   "outputs": [
    {
     "data": {
      "text/plain": [
       "array(['Certified', 'Denied'], dtype=object)"
      ]
     },
     "execution_count": 19,
     "metadata": {},
     "output_type": "execute_result"
    }
   ],
   "source": [
    "visa_trans['case_status'].unique()"
   ]
  },
  {
   "cell_type": "markdown",
   "metadata": {},
   "source": [
    "Reference:\n",
    "* https://stackoverflow.com/questions/13413590/how-to-drop-rows-of-pandas-dataframe-whose-value-in-certain-columns-is-nan"
   ]
  },
  {
   "cell_type": "markdown",
   "metadata": {},
   "source": [
    "#### Cleaning employer state"
   ]
  },
  {
   "cell_type": "code",
   "execution_count": 20,
   "metadata": {},
   "outputs": [
    {
     "data": {
      "text/plain": [
       "26"
      ]
     },
     "execution_count": 20,
     "metadata": {},
     "output_type": "execute_result"
    }
   ],
   "source": [
    "visa_trans['employer_state'].isnull().sum()"
   ]
  },
  {
   "cell_type": "markdown",
   "metadata": {},
   "source": [
    "There are only 26 null values for 'employer_state' in the records, so it is better to drop them for proper analysis"
   ]
  },
  {
   "cell_type": "code",
   "execution_count": 21,
   "metadata": {},
   "outputs": [],
   "source": [
    "visa_trans.dropna(subset=['employer_state'],inplace=True)"
   ]
  },
  {
   "cell_type": "markdown",
   "metadata": {},
   "source": [
    "Confirming the same below."
   ]
  },
  {
   "cell_type": "code",
   "execution_count": 22,
   "metadata": {
    "scrolled": true
   },
   "outputs": [
    {
     "data": {
      "text/plain": [
       "False"
      ]
     },
     "execution_count": 22,
     "metadata": {},
     "output_type": "execute_result"
    }
   ],
   "source": [
    "visa_trans['employer_state'].isnull().any()"
   ]
  },
  {
   "cell_type": "markdown",
   "metadata": {},
   "source": [
    "#### Using a strip function to remove unwanted spaces & using map to feed data."
   ]
  },
  {
   "cell_type": "markdown",
   "metadata": {},
   "source": [
    "As there are over 300K records and its a string so we cannot say if there are whitespaces before or after the string value."
   ]
  },
  {
   "cell_type": "code",
   "execution_count": 23,
   "metadata": {},
   "outputs": [],
   "source": [
    "def cleanSpaces(x):\n",
    "    x.strip()\n",
    "    return x"
   ]
  },
  {
   "cell_type": "code",
   "execution_count": 24,
   "metadata": {},
   "outputs": [],
   "source": [
    "visa_trans['employer_state'].map(cleanSpaces);"
   ]
  },
  {
   "cell_type": "markdown",
   "metadata": {},
   "source": [
    "#### Conversion of States into abbriviation \n",
    "\n",
    "Many state values are in either full form or in abbreveation, so to maintain consistency we are converting all the full forms into abbreveation of states.\n",
    "\n",
    "Reference:\n",
    "* https://www.kaggle.com/kavyaa/us-visa-status-prediction-and-data-visualisation "
   ]
  },
  {
   "cell_type": "code",
   "execution_count": 25,
   "metadata": {},
   "outputs": [],
   "source": [
    "visa_trans['employer_state'].fillna('Unknown');\n",
    "\n",
    "#Mapping from state name to short-form\n",
    "us_state_abbrev = {\n",
    "    'Alabama': 'AL',\n",
    "    'Alaska': 'AK',\n",
    "    'Arizona': 'AZ',\n",
    "    'Arkansas': 'AR',\n",
    "    'California': 'CA',\n",
    "    'Colorado': 'CO',\n",
    "    'Connecticut': 'CT',\n",
    "    'Delaware': 'DE',\n",
    "    'Florida': 'FL',\n",
    "    'Georgia': 'GA',\n",
    "    'Hawaii': 'HI',\n",
    "    'Idaho': 'ID',\n",
    "    'Illinois': 'IL',\n",
    "    'Indiana': 'IN',\n",
    "    'Iowa': 'IA',\n",
    "    'Kansas': 'KS',\n",
    "    'Kentucky': 'KY',\n",
    "    'Louisiana': 'LA',\n",
    "    'Maine': 'ME',\n",
    "    'Maryland': 'MD',\n",
    "    'Massachusetts': 'MA',\n",
    "    'Michigan': 'MI',\n",
    "    'Minnesota': 'MN',\n",
    "    'Mississippi': 'MS',\n",
    "    'Missouri': 'MO',\n",
    "    'Montana': 'MT',\n",
    "    'Nebraska': 'NE',\n",
    "    'Nevada': 'NV',\n",
    "    'New Hampshire': 'NH',\n",
    "    'New Jersey': 'NJ',\n",
    "    'New Mexico': 'NM',\n",
    "    'New York': 'NY',\n",
    "    'North Carolina': 'NC',\n",
    "    'North Dakota': 'ND',\n",
    "    'Ohio': 'OH',\n",
    "    'Oklahoma': 'OK',\n",
    "    'Oregon': 'OR',\n",
    "    'Pennsylvania': 'PA',\n",
    "    'Rhode Island': 'RI',\n",
    "    'South Carolina': 'SC',\n",
    "    'South Dakota': 'SD',\n",
    "    'Tennessee': 'TN',\n",
    "    'Texas': 'TX',\n",
    "    'Utah': 'UT',\n",
    "    'Vermont': 'VT',\n",
    "    'Virginia': 'VA',\n",
    "    'Washington': 'WA',\n",
    "    'West Virginia': 'WV',\n",
    "    'Wisconsin': 'WI',\n",
    "    'Wyoming': 'WY',\n",
    "    'Northern Mariana Islands':'MP', \n",
    "    'Palau': 'PW', \n",
    "    'Puerto Rico': 'PR', \n",
    "    'Virgin Islands': 'VI', \n",
    "    'District of Columbia': 'DC'\n",
    "}\n",
    "\n",
    "#Capitalizing Keys\n",
    "us_state_abbrev = {k.upper(): v for k, v in us_state_abbrev.items()}\n",
    "visa_trans['employer_state'].replace(us_state_abbrev, inplace=True);\n",
    "visa_trans=visa_trans[visa_trans['employer_state']!='MARSHALL ISLANDS'];"
   ]
  },
  {
   "cell_type": "markdown",
   "metadata": {},
   "source": [
    "Confirming the state values after transformation."
   ]
  },
  {
   "cell_type": "code",
   "execution_count": 26,
   "metadata": {},
   "outputs": [
    {
     "data": {
      "text/plain": [
       "array(['NY', 'VA', 'FL', 'DE', 'NJ', 'GA', 'TX', 'KY', 'MS', 'MA', 'CA',\n",
       "       'NC', 'WY', 'MO', 'WI', 'MD', 'PA', 'AZ', 'WA', 'CO', 'MN', 'OH',\n",
       "       'NV', 'CT', 'IL', 'AL', 'OK', 'RI', 'DC', 'MI', 'IA', 'NH', 'IN',\n",
       "       'SD', 'NE', 'KS', 'TN', 'PR', 'OR', 'AR', 'WV', 'SC', 'GU', 'VI',\n",
       "       'LA', 'ID', 'ND', 'UT', 'HI', 'VT', 'ME', 'NM', 'AK', 'MT', 'MP',\n",
       "       'GUAM', 'BRITISH COLUMBIA', 'BC'], dtype=object)"
      ]
     },
     "execution_count": 26,
     "metadata": {},
     "output_type": "execute_result"
    }
   ],
   "source": [
    "visa_trans['employer_state'].unique()"
   ]
  },
  {
   "cell_type": "markdown",
   "metadata": {},
   "source": [
    "\n",
    "#### Cleaning Salary"
   ]
  },
  {
   "cell_type": "markdown",
   "metadata": {},
   "source": [
    "Converting the salary of employee to yearly salary - Imputing the data of Yearly salary with median value of the salary column as we can see below that there are only 1643 null values in the whole of over 335K records and it will not affect the distribution much.\n",
    "\n",
    "The reason for imputing is because we do not want to remove those records."
   ]
  },
  {
   "cell_type": "code",
   "execution_count": 27,
   "metadata": {},
   "outputs": [
    {
     "data": {
      "text/plain": [
       "1643"
      ]
     },
     "execution_count": 27,
     "metadata": {},
     "output_type": "execute_result"
    }
   ],
   "source": [
    "visa_trans['pw_amount_9089'].isnull().sum()"
   ]
  },
  {
   "cell_type": "code",
   "execution_count": 28,
   "metadata": {},
   "outputs": [],
   "source": [
    "#Calculating pay based on unit of pay and wage\n",
    "di = {\"Year\": 1, \"yr\": 1, \"Hour\": 2080, \"hr\": 2080, \"Week\": 52, \"wk\": 52, \"Bi-Weekly\": 26,\"bi\": 26, \"Month\": 12, \"mth\": 12}\n",
    "visa_trans['pw_unit_of_pay_9089'].replace(di, inplace=True)\n",
    "\n",
    "#Changing datatype of pay to float\n",
    "visa_trans['pw_amount_9089'] = visa_trans['pw_amount_9089'].str.replace(',', '')\n",
    "visa_trans[['pw_amount_9089', 'pw_unit_of_pay_9089']] = visa_trans[['pw_amount_9089', 'pw_unit_of_pay_9089']].astype(float)\n",
    "visa_trans['yearly_pay'] = visa_trans['pw_amount_9089']*visa_trans['pw_unit_of_pay_9089']\n",
    "visa_trans['yearly_pay']=visa_trans['yearly_pay'].fillna((visa_trans['yearly_pay'].median()))\n"
   ]
  },
  {
   "cell_type": "code",
   "execution_count": 29,
   "metadata": {},
   "outputs": [],
   "source": [
    "visa_trans.drop(['pw_amount_9089','pw_unit_of_pay_9089'], axis=1,inplace=True)\n"
   ]
  },
  {
   "cell_type": "markdown",
   "metadata": {},
   "source": [
    "Reference:\n",
    "* https://www.kaggle.com/kavyaa/us-visa-status-prediction-and-data-visualisation"
   ]
  },
  {
   "cell_type": "markdown",
   "metadata": {},
   "source": [
    "#### Cleaning Education data"
   ]
  },
  {
   "cell_type": "markdown",
   "metadata": {},
   "source": [
    "Checking for null values."
   ]
  },
  {
   "cell_type": "code",
   "execution_count": 30,
   "metadata": {},
   "outputs": [
    {
     "data": {
      "text/plain": [
       "120674"
      ]
     },
     "execution_count": 30,
     "metadata": {},
     "output_type": "execute_result"
    }
   ],
   "source": [
    "visa_trans['foreign_worker_info_education'].isnull().sum()"
   ]
  },
  {
   "cell_type": "markdown",
   "metadata": {},
   "source": [
    "As we dont want to remove all the records that are null, we will replace them by `Unknown` values."
   ]
  },
  {
   "cell_type": "code",
   "execution_count": 31,
   "metadata": {},
   "outputs": [],
   "source": [
    "visa_trans['foreign_worker_info_education'].fillna('Unknown', inplace=True)"
   ]
  },
  {
   "cell_type": "markdown",
   "metadata": {},
   "source": [
    "#### Adding Region for every State"
   ]
  },
  {
   "cell_type": "markdown",
   "metadata": {},
   "source": [
    "In US broadly we have four regions - \n",
    "* **Northeast** - Maine, New York, New Jersey, Vermont, Massachusetts, Rhode Island, Connecticut, New Hampshire, Pennsylvania\n",
    "* **Midwest**- Illinois,Indiana,Iowa,Kansas,Michigan,Minnesota,Missouri,Nebraska,North Dakota,Ohio,South Dakota,Wisconsin\n",
    "* **South**-Delaware, Florida, Georgia, Maryland, North Carolina, South Carolina, Virginia, West Virginia, Alabama, Kentucky, Mississippi,Tennessee,  Arkansas, Louisiana, Oklahoma,Texas,\n",
    "* **West**- Montana, Wyoming, Colorado, New Mexico, Idaho, Utah, Arizona,Nevada, Washington, Oregon, California, Alaska, Hawaii\n",
    "\n",
    "Reference:\n",
    "* https://en.wikipedia.org/wiki/List_of_regions_of_the_United_States"
   ]
  },
  {
   "cell_type": "code",
   "execution_count": 32,
   "metadata": {},
   "outputs": [],
   "source": [
    "regions = {\n",
    "    'ME':'Northeast', \n",
    "    'NY':'Northeast', \n",
    "    'NJ':'Northeast', \n",
    "    'VT':'Northeast',\n",
    "    'MA':'Northeast',\n",
    "    'RI':'Northeast',\n",
    "    'CT':'Northeast',\n",
    "    'NH':'Northeast',\n",
    "    'PA':'Northeast',\n",
    "    'IL':'Midwest',\n",
    "    'IN':'Midwest',\n",
    "    'IA':'Midwest', \n",
    "    'KS':'Midwest',\n",
    "    'MI':'Midwest', \n",
    "    'MN':'Midwest', \n",
    "    'MO':'Midwest', \n",
    "    'NE':'Midwest',\n",
    "    'ND':'Midwest', \n",
    "    'OH':'Midwest', \n",
    "    'SD':'Midwest', \n",
    "    'WI':'Midwest',\n",
    "    'DE':'South',\n",
    "    'FL':'South', \n",
    "    'GA':'South',\n",
    "    'MD':'South',\n",
    "    'NC':'South',\n",
    "    'SC':'South',\n",
    "    'VA':'South',\n",
    "    'WV':'South',\n",
    "    'AL':'South',\n",
    "    'KY':'South',\n",
    "    'MS':'South',\n",
    "    'TN':'South',\n",
    "    'AR':'South',\n",
    "    'LA':'South', \n",
    "    'OK':'South',\n",
    "    'TX':'South',\n",
    "    'MT':'West',\n",
    "    'WY':'West', \n",
    "    'CO':'West', \n",
    "    'NM':'West', \n",
    "    'ID':'West', \n",
    "    'UT':'West', \n",
    "    'AZ':'West', \n",
    "    'NV':'West',\n",
    "    'WA':'West', \n",
    "    'OR':'West', \n",
    "    'CA':'West', \n",
    "    'AK':'West',\n",
    "    'HI':'West',\n",
    "    'DC':'Other', \n",
    "    'GUAM':'Other',\n",
    "    'PR':'Other', \n",
    "    'MP':'Other', \n",
    "    'VI':'Other',\n",
    "    'BRITISH COLUMBIA':'Other', \n",
    "    'GU':'Other', \n",
    "    'BC':'Other'\n",
    "}"
   ]
  },
  {
   "cell_type": "markdown",
   "metadata": {},
   "source": [
    "Below is a function to assign states to the region they belong in."
   ]
  },
  {
   "cell_type": "code",
   "execution_count": 33,
   "metadata": {},
   "outputs": [],
   "source": [
    "def get_region(state):\n",
    "    return regions[state]\n",
    "\n",
    "visa_trans['region'] = visa_trans['employer_state'].apply(get_region)"
   ]
  },
  {
   "cell_type": "markdown",
   "metadata": {},
   "source": [
    "We only want to consider those records that belong in regions of the US for our analysis, thus removing the other region records."
   ]
  },
  {
   "cell_type": "code",
   "execution_count": 34,
   "metadata": {},
   "outputs": [],
   "source": [
    "visa_trans=visa_trans[visa_trans['region']!='Other']"
   ]
  },
  {
   "cell_type": "markdown",
   "metadata": {},
   "source": [
    "Confirming that we have only four regions now."
   ]
  },
  {
   "cell_type": "code",
   "execution_count": 35,
   "metadata": {},
   "outputs": [
    {
     "data": {
      "text/plain": [
       "array(['Northeast', 'South', 'West', 'Midwest'], dtype=object)"
      ]
     },
     "execution_count": 35,
     "metadata": {},
     "output_type": "execute_result"
    }
   ],
   "source": [
    "visa_trans['region'].unique()"
   ]
  },
  {
   "cell_type": "markdown",
   "metadata": {},
   "source": [
    "#### Cleaning Country of Citizenship"
   ]
  },
  {
   "cell_type": "markdown",
   "metadata": {},
   "source": [
    "Combining country of citizenship columns because the values are split into two columns. (Note: The two columns differ in spelling `i`)."
   ]
  },
  {
   "cell_type": "code",
   "execution_count": 36,
   "metadata": {},
   "outputs": [],
   "source": [
    "visa_trans['country_of_citizenship'].fillna(visa_trans['country_of_citzenship'], inplace=True)"
   ]
  },
  {
   "cell_type": "markdown",
   "metadata": {},
   "source": [
    "Dropping the unwanted `country_of_citzenship` column"
   ]
  },
  {
   "cell_type": "code",
   "execution_count": 37,
   "metadata": {},
   "outputs": [],
   "source": [
    "visa_trans.drop(['country_of_citzenship'],axis=1);"
   ]
  },
  {
   "cell_type": "markdown",
   "metadata": {},
   "source": [
    "##### With this, we have concluded our cleaning process and now moving on to exploration, analysis and interesting findings.\n",
    "\n",
    "------------"
   ]
  },
  {
   "cell_type": "markdown",
   "metadata": {},
   "source": [
    "## Description of the dataset\n",
    "\n",
    "Each row is an applicant record for Permanent Visa Application. The columns report attributes for the applicant:\n",
    "\n",
    "| Column | Description | \n",
    "|--------|-------------|\n",
    "|`case_no`|Unique identifier assigned to each application submitted for processing to the ETA National Processing Center. A = Atlanta NPC; C = Chicago NPC |\n",
    "|`case_status`| Status associated with the last significant event or decision.  Valid values include “Certified,” “Certified-Expired,” “Denied,” and “Withdrawn”|\n",
    "|`class_of_admission`| If applicable, indicates the class of immigration visa the foreign worker held at the time the permanent labor certification application was submitted for processing.|\n",
    "|`country_of_citizenship`|The Applicant's country of citizenship|\n",
    "|`employer_country`| The country of employer| \n",
    "|`employer_name`|Name of the Employer| \n",
    "|`employer_state`| U.S state where Employer is based at. | \n",
    "|`foreign_worker_info_education`| Education background of the Employee - Masters, Bahelor's, Doctor's etc. | \n",
    "|`naics_2007_us_title`| NAICS classification of Job Title | \n",
    "|`us_economic_sector`| The Economic Sector in which the Applicant is working in | \n",
    "|`year`| The year when decision was taken | \n",
    "|`yearly_pay`| The yearly salary of the Applicant | \n",
    "|`region`| The region of Employer based on the state of the Employer |"
   ]
  },
  {
   "cell_type": "markdown",
   "metadata": {},
   "source": [
    "--------------"
   ]
  },
  {
   "cell_type": "markdown",
   "metadata": {},
   "source": [
    "## Visualization of the Dataset"
   ]
  },
  {
   "cell_type": "code",
   "execution_count": 38,
   "metadata": {},
   "outputs": [
    {
     "data": {
      "text/plain": [
       "Certified    312145\n",
       "Denied        20898\n",
       "Name: case_status, dtype: int64"
      ]
     },
     "execution_count": 38,
     "metadata": {},
     "output_type": "execute_result"
    }
   ],
   "source": [
    "visa_trans.case_status.value_counts()"
   ]
  },
  {
   "cell_type": "code",
   "execution_count": 39,
   "metadata": {},
   "outputs": [
    {
     "data": {
      "text/plain": [
       "6.274865407770168"
      ]
     },
     "execution_count": 39,
     "metadata": {},
     "output_type": "execute_result"
    }
   ],
   "source": [
    "(len(visa_trans[visa_trans['case_status']=='Denied'])/len(visa_trans)) * 100"
   ]
  },
  {
   "cell_type": "markdown",
   "metadata": {},
   "source": [
    "It's interesting that about 6.3% of applications were denied which we assume is really low."
   ]
  },
  {
   "cell_type": "code",
   "execution_count": 40,
   "metadata": {},
   "outputs": [
    {
     "data": {
      "image/png": "[encoded data removed]",
      "text/plain": [
       "<matplotlib.figure.Figure at 0x10f1cb50>"
      ]
     },
     "metadata": {},
     "output_type": "display_data"
    }
   ],
   "source": [
    "fig, ax = plt.subplots();\n",
    "fig.set_size_inches(12.7, 8.27);\n",
    "sns.set_context(rc={\"font.size\":12});\n",
    "sns.countplot(x=\"year\", hue=\"case_status\", data=visa_trans);\n",
    "ax.set(xlabel='Visa application year', ylabel='Number of Visa applicatons');"
   ]
  },
  {
   "cell_type": "markdown",
   "metadata": {},
   "source": [
    "It's interesting that while the number of `Certified` applications increases, the number of `Denied` seems to be similar from year 2013.\n",
    "\n",
    "---------------"
   ]
  },
  {
   "cell_type": "markdown",
   "metadata": {},
   "source": [
    "## Data Exploration"
   ]
  },
  {
   "cell_type": "markdown",
   "metadata": {},
   "source": [
    "We will analyze the nature of the applications- \n",
    "\n",
    "* What are the **Economic Sectors** for which application are filed and which sector has the highest percentage of application.\n",
    "* Which are the **Top 10 Employer States** filing for the visa.\n",
    "* What are the **Top 10 Companies** mostly filing for the visa.\n",
    "* What is the **Citizenship of Employees** for which application is filed.\n",
    "* What is the **Visa Type** of the applications- this is the visa status at the time they enter US for the first time.\n",
    "* What is the **Education Background** of the applicants."
   ]
  },
  {
   "cell_type": "markdown",
   "metadata": {},
   "source": [
    "#### Application Percentage in various Economic sectors"
   ]
  },
  {
   "cell_type": "code",
   "execution_count": 41,
   "metadata": {},
   "outputs": [],
   "source": [
    "#Creating empty dictionary\n",
    "us_economic_counts = {}\n",
    "\n",
    "#Iterating over \"us_economic_sector\" column and appending values to the \"us_economic_counts\" dictionary\n",
    "for value in visa_trans['us_economic_sector'].dropna():\n",
    "    if value in us_economic_counts:\n",
    "        us_economic_counts[value] += 1\n",
    "    else:\n",
    "        us_economic_counts[value] = 1"
   ]
  },
  {
   "cell_type": "code",
   "execution_count": 42,
   "metadata": {},
   "outputs": [
    {
     "data": {
      "image/png": "[encoded data removed]",
      "text/plain": [
       "<matplotlib.figure.Figure at 0x10f3f630>"
      ]
     },
     "metadata": {},
     "output_type": "display_data"
    }
   ],
   "source": [
    "# Creating lists for us economic sectors and their counts\n",
    "usecolabels = []\n",
    "usecovalues = []\n",
    "explode = (0.035, 0, 0, 0,0,0,0,0,0,0)\n",
    "\n",
    "for key, value in us_economic_counts.items():\n",
    "    usecolabels.append(key)\n",
    "    usecovalues.append(value)\n",
    "    \n",
    "#Setting plot parameters\n",
    "plt.figure(figsize=(9,9));  \n",
    "sns.set_context(rc={\"font.size\":10,\"axes.labelsize\":30,\"xtick.labelsize\" : 15});\n",
    "plt.pie(usecovalues[:10], labels=usecolabels[:10], explode = explode, autopct='%1.1f%%', pctdistance = 0.9,\n",
    "          rotatelabels = 75, startangle=140, labeldistance = 1.05);"
   ]
  },
  {
   "cell_type": "markdown",
   "metadata": {},
   "source": [
    "It confirms our assumption that most of the applicants belong to the IT sector.\n",
    "\n",
    "Reference:\n",
    "* https://www.kaggle.com/elzawie/us-permanent-visa-applications-v1-1"
   ]
  },
  {
   "cell_type": "markdown",
   "metadata": {},
   "source": [
    "#### Top 10 States with the highest number of applications"
   ]
  },
  {
   "cell_type": "code",
   "execution_count": 44,
   "metadata": {},
   "outputs": [
    {
     "data": {
      "image/png": "[encoded data removed]",
      "text/plain": [
       "<matplotlib.figure.Figure at 0x2c30770>"
      ]
     },
     "metadata": {},
     "output_type": "display_data"
    }
   ],
   "source": [
    "fig, ax = plt.subplots();\n",
    "fig.set_size_inches(12.7, 8.27)\n",
    "sns.countplot(y='employer_state', data=visa_trans, palette = sns.diverging_palette(255, 133, l=50, n=10, center=\"dark\"),order=visa_trans.employer_state.value_counts().iloc[:10].index)\n",
    "sns.set_context(rc={\"font.size\":12,\"axes.labelsize\":12})\n",
    "plt.ylabel('Employer State');\n",
    "plt.xlabel('Number of applications');\n",
    "plt.title('Top 10 States with the highest number of applications');"
   ]
  },
  {
   "cell_type": "markdown",
   "metadata": {},
   "source": [
    "As expected California has the highest number of applications, Since Bay Area, California is the IT hub."
   ]
  },
  {
   "cell_type": "markdown",
   "metadata": {},
   "source": [
    "#### Approval rate of applications per state"
   ]
  },
  {
   "cell_type": "code",
   "execution_count": 45,
   "metadata": {},
   "outputs": [],
   "source": [
    "visa_state_status=pd.DataFrame(visa_trans.groupby(['employer_state','case_status'])['case_no'].agg(['count']).reset_index())\n",
    "\n",
    "visa_state_ratio=(visa_state_status[visa_state_status['case_status']=='Certified'].groupby(['employer_state','case_status'])['count'].sum()/visa_state_status.groupby(['employer_state'])['count'].sum()).reset_index()\n",
    "\n",
    "visa_state_ratio=visa_state_ratio.sort_values(by='count', ascending=False)"
   ]
  },
  {
   "cell_type": "code",
   "execution_count": 46,
   "metadata": {},
   "outputs": [
    {
     "data": {
      "image/png": "[encoded data removed]",
      "text/plain": [
       "<matplotlib.figure.Figure at 0x2c303d0>"
      ]
     },
     "metadata": {},
     "output_type": "display_data"
    }
   ],
   "source": [
    "g=sns.factorplot(x=\"employer_state\", y=\"count\",data=visa_state_ratio.head(20), aspect=3.5); \n",
    "plt.title('Top 20 States with Highest Approval Rates');\n",
    "plt.ylabel('Approval Rate');\n",
    "plt.xlabel('State');"
   ]
  },
  {
   "cell_type": "markdown",
   "metadata": {},
   "source": [
    "#### Top 10 Companies with the Highest number of applications"
   ]
  },
  {
   "cell_type": "code",
   "execution_count": 47,
   "metadata": {},
   "outputs": [
    {
     "data": {
      "text/plain": [
       "employer_name\n",
       "COGNIZANT TECHNOLOGY SOLUTIONS US CORPORATION    11886\n",
       "MICROSOFT CORPORATION                             8067\n",
       "INTEL CORPORATION                                 6117\n",
       "GOOGLE INC.                                       5057\n",
       "AMAZON CORPORATE LLC                              3632\n",
       "CISCO SYSTEMS, INC.                               2591\n",
       "APPLE INC.                                        2531\n",
       "ORACLE AMERICA, INC.                              2503\n",
       "INFOSYS LTD.                                      2465\n",
       "DELOITTE CONSULTING LLP                           1689\n",
       "Name: employer_name, dtype: int64"
      ]
     },
     "execution_count": 47,
     "metadata": {},
     "output_type": "execute_result"
    }
   ],
   "source": [
    "visa_trans.groupby('employer_name')['employer_name'].count().nlargest(10)"
   ]
  },
  {
   "cell_type": "code",
   "execution_count": 48,
   "metadata": {},
   "outputs": [
    {
     "data": {
      "image/png": "[encoded data removed]",
      "text/plain": [
       "<matplotlib.figure.Figure at 0x10ef9090>"
      ]
     },
     "metadata": {},
     "output_type": "display_data"
    }
   ],
   "source": [
    "fig, ax = plt.subplots();\n",
    "fig.set_size_inches(12.7, 8.27);\n",
    "sns.set_context(rc={\"font.size\":12,\"axes.labelsize\":13});\n",
    "sns.countplot(y='employer_name', data=visa_trans, palette =sns.color_palette(\"Paired\"), order=visa_trans.employer_name.value_counts().iloc[:10].index);\n",
    "\n",
    "ax.set(xlabel='Number of Visa applications', ylabel='Company');\n",
    "plt.title('Top 10 Companies with the Highest number of applications');"
   ]
  },
  {
   "cell_type": "markdown",
   "metadata": {},
   "source": [
    "As mentioned above most of the applciations are from the IT sector, so here we can see that the top 9 companies belong to that sector."
   ]
  },
  {
   "cell_type": "markdown",
   "metadata": {},
   "source": [
    "#### Top 10 occupations of applicants"
   ]
  },
  {
   "cell_type": "code",
   "execution_count": 49,
   "metadata": {},
   "outputs": [
    {
     "data": {
      "text/plain": [
       "naics_2007_us_title\n",
       "Custom Computer Programming Services                3541\n",
       "Colleges, Universities, and Professional Schools     957\n",
       "Computer Systems Design Services                     815\n",
       "Computer Systems Design and Related Services         581\n",
       "Software Publishers                                  567\n",
       "Engineering Services                                 518\n",
       "Other Computer Related Services                      436\n",
       "Elementary and Secondary Schools                     382\n",
       "General Medical and Surgical Hospitals               363\n",
       "Investment Banking and Securities Dealing            338\n",
       "Name: naics_2007_us_title, dtype: int64"
      ]
     },
     "execution_count": 49,
     "metadata": {},
     "output_type": "execute_result"
    }
   ],
   "source": [
    "visa_trans.groupby('naics_2007_us_title')['naics_2007_us_title'].count().nlargest(10)"
   ]
  },
  {
   "cell_type": "markdown",
   "metadata": {},
   "source": [
    "We can see that most applicants are Computer Programmers and Engineers."
   ]
  },
  {
   "cell_type": "markdown",
   "metadata": {},
   "source": [
    "#### Top 5 Countries of Citizenship"
   ]
  },
  {
   "cell_type": "code",
   "execution_count": 50,
   "metadata": {},
   "outputs": [
    {
     "data": {
      "image/png": "[encoded data removed]",
      "text/plain": [
       "<matplotlib.figure.Figure at 0x10f99a50>"
      ]
     },
     "metadata": {},
     "output_type": "display_data"
    }
   ],
   "source": [
    "fig, ax = plt.subplots();\n",
    "fig.set_size_inches(10.7, 6.27);\n",
    "sns.set_context(rc={\"font.size\":14, \"axes.labelsize\":14});\n",
    "sns.countplot(y='country_of_citizenship',hue='case_status',data=visa_trans, \n",
    "              order=visa_trans.country_of_citizenship.value_counts().iloc[:5].index);\n",
    "\n",
    "ax.set(xlabel='Number of Visa applications', ylabel='Country of citizenship');\n",
    "plt.title('Top 5 countries with Highest number of applications');"
   ]
  },
  {
   "cell_type": "markdown",
   "metadata": {},
   "source": [
    "We can see most of the visa applicants are Indians."
   ]
  },
  {
   "cell_type": "markdown",
   "metadata": {},
   "source": [
    "#### Type of visa with which applicants entered USA"
   ]
  },
  {
   "cell_type": "code",
   "execution_count": 51,
   "metadata": {},
   "outputs": [
    {
     "data": {
      "image/png": "[encoded data removed]",
      "text/plain": [
       "<matplotlib.figure.Figure at 0x11011b10>"
      ]
     },
     "metadata": {},
     "output_type": "display_data"
    }
   ],
   "source": [
    "#Setting plot parameters\n",
    "fig, ax = plt.subplots();\n",
    "fig.set_size_inches(12.7, 7.27);\n",
    "sns.countplot(x='class_of_admission',data=visa_trans, \n",
    "              order=visa_trans.class_of_admission.value_counts().iloc[:10].index);\n",
    "\n",
    "#Iterating over elements in \"class_of_admission\" column and displaying counts above bars \n",
    "for i, v in visa_trans.class_of_admission.value_counts().head(10).reset_index().iterrows():\n",
    "    ax.text(i,v.class_of_admission,v.unique()[1], horizontalalignment='center',verticalalignment='bottom');\n",
    "    \n",
    "ax.set(xlabel='Visa type', ylabel='Number of applications');\n",
    "plt.title('Number of applications per type of Visa');"
   ]
  },
  {
   "cell_type": "markdown",
   "metadata": {},
   "source": [
    "We can see most of the applicants who are applying for permanent work visa came to the states on H-1B. "
   ]
  },
  {
   "cell_type": "markdown",
   "metadata": {},
   "source": [
    "#### Education Background of the applicants"
   ]
  },
  {
   "cell_type": "markdown",
   "metadata": {},
   "source": [
    "As we know already that many values in education column are unknown, thus we will ignore those records and see what other education background are there"
   ]
  },
  {
   "cell_type": "code",
   "execution_count": 52,
   "metadata": {},
   "outputs": [
    {
     "data": {
      "image/png": "[encoded data removed]",
      "text/plain": [
       "<matplotlib.figure.Figure at 0x110a1ef0>"
      ]
     },
     "metadata": {},
     "output_type": "display_data"
    }
   ],
   "source": [
    "#Setting plot parameters\n",
    "fig, ax = plt.subplots();\n",
    "fig.set_size_inches(12.7, 8.27);\n",
    " #sns.set_context(rc={\"font.size\":14, \"axes.labelsize\":12})\n",
    "sns.countplot(x='foreign_worker_info_education',data=visa_trans[visa_trans['foreign_worker_info_education']!='Unknown'], \n",
    "               order=(visa_trans[visa_trans['foreign_worker_info_education']!='Unknown']).foreign_worker_info_education.value_counts().iloc[:10].index);\n",
    "\n",
    "#Iterating over elements in \"job_info_job_title\" column and displaying counts above bars \n",
    "for i, v in (visa_trans[visa_trans['foreign_worker_info_education']!='Unknown']).foreign_worker_info_education.value_counts().head(10).reset_index().iterrows():\n",
    "    ax.text(i,v.foreign_worker_info_education,v.unique()[1], horizontalalignment='center',verticalalignment='bottom');\n",
    "\n",
    "#Setting label titles    \n",
    "ax.set(xlabel='Education level', ylabel='Number of Visa applications');\n",
    "sns.set_context(rc={\"font.size\":12,\"axes.labelsize\":13});"
   ]
  },
  {
   "cell_type": "markdown",
   "metadata": {},
   "source": [
    "#### Conclusion of Data Exploration\n",
    "\n",
    "After our data exploration we can say that most of the applicants who majorly come from India and hold atleast a Bachelos's degree, work in the IT Sector and that's the reason most of the applications are filed by Employer's in California as this state is the IT hub.\n",
    "\n",
    "--------------"
   ]
  },
  {
   "cell_type": "markdown",
   "metadata": {},
   "source": [
    "## Interesting Findings"
   ]
  },
  {
   "cell_type": "markdown",
   "metadata": {},
   "source": [
    "### First Finding"
   ]
  },
  {
   "cell_type": "markdown",
   "metadata": {},
   "source": [
    "We know from common knowledge that in the year 2010, USA was hit bad with recession. Due to this, as we have seen since most of the applicants work in the IT sector, we assume that the rate of denials for this sector must have increased over the years since 2010. But is our assumption about IT sector true? Lets find out.\n"
   ]
  },
  {
   "cell_type": "code",
   "execution_count": 53,
   "metadata": {},
   "outputs": [],
   "source": [
    "visa_trans_h1_f1=visa_trans[(visa_trans['class_of_admission']=='H-1B') | (visa_trans['class_of_admission']=='F-1') ]"
   ]
  },
  {
   "cell_type": "markdown",
   "metadata": {},
   "source": [
    "We now Visualize the denial rates of applications based on Economic Sectors over the years 2011 - 2014 based on the available data for these years."
   ]
  },
  {
   "cell_type": "code",
   "execution_count": 54,
   "metadata": {},
   "outputs": [
    {
     "data": {
      "image/png": "[encoded data removed]",
      "text/plain": [
       "<matplotlib.figure.Figure at 0x110cc7f0>"
      ]
     },
     "metadata": {},
     "output_type": "display_data"
    }
   ],
   "source": [
    "(visa_trans_h1_f1[(visa_trans_h1_f1['case_status'] == 'Denied') & (visa_trans_h1_f1['year'] == 2011)].groupby('us_economic_sector')['case_no'].count()\\\n",
    "/visa_trans_h1_f1[visa_trans_h1_f1['year'] == 2011].groupby('us_economic_sector')['case_no'].count()).nlargest(5).plot(kind='barh');\n",
    "plt.xlabel(\"Denial Rate\");\n",
    "plt.ylabel(\"Economic Sector\");\n",
    "plt.title(\"Denial Rates based on Economic Sectors in 2011\");"
   ]
  },
  {
   "cell_type": "code",
   "execution_count": 55,
   "metadata": {},
   "outputs": [
    {
     "data": {
      "image/png": "[encoded data removed]",
      "text/plain": [
       "<matplotlib.figure.Figure at 0x1421c210>"
      ]
     },
     "metadata": {},
     "output_type": "display_data"
    }
   ],
   "source": [
    "(visa_trans_h1_f1[(visa_trans_h1_f1['case_status'] == 'Denied') & (visa_trans_h1_f1['year'] == 2012)].groupby('us_economic_sector')['case_no'].count()\\\n",
    "/visa_trans_h1_f1[visa_trans_h1_f1['year'] == 2012].groupby('us_economic_sector')['case_no'].count()).nlargest(5).plot(kind='barh');\n",
    "\n",
    "plt.xlabel(\"Denial Rate\");\n",
    "plt.ylabel(\"Economic Sector\");\n",
    "plt.title(\"Denial Rates based on Economic Sectors in 2012\");"
   ]
  },
  {
   "cell_type": "code",
   "execution_count": 56,
   "metadata": {},
   "outputs": [
    {
     "data": {
      "image/png": "[encoded data removed]",
      "text/plain": [
       "<matplotlib.figure.Figure at 0x1423a650>"
      ]
     },
     "metadata": {},
     "output_type": "display_data"
    }
   ],
   "source": [
    "(visa_trans_h1_f1[(visa_trans_h1_f1['case_status'] == 'Denied') & (visa_trans_h1_f1['year'] == 2013)].groupby('us_economic_sector')['case_no'].count()\\\n",
    "/visa_trans_h1_f1[visa_trans_h1_f1['year'] == 2013].groupby('us_economic_sector')['case_no'].count()).nlargest(5).plot(kind='barh');\n",
    "\n",
    "plt.xlabel(\"Denial Rate\");\n",
    "plt.ylabel(\"Economic Sector\");\n",
    "plt.title(\"Denial Rates based on Economic Sectors in 2013\");"
   ]
  },
  {
   "cell_type": "code",
   "execution_count": 57,
   "metadata": {},
   "outputs": [
    {
     "data": {
      "image/png": "[encoded data removed]",
      "text/plain": [
       "<matplotlib.figure.Figure at 0x14ad8710>"
      ]
     },
     "metadata": {},
     "output_type": "display_data"
    }
   ],
   "source": [
    "(visa_trans_h1_f1[(visa_trans_h1_f1['case_status'] == 'Denied') & (visa_trans_h1_f1['year'] == 2014)].groupby('us_economic_sector')['case_no'].count()\\\n",
    "/visa_trans_h1_f1[visa_trans_h1_f1['year'] == 2014].groupby('us_economic_sector')['case_no'].count()).nlargest(5).plot(kind='barh');\n",
    "plt.xlabel(\"Denial Rate\");\n",
    "plt.ylabel(\"Economic Sector\");\n",
    "plt.title(\"Denial Rates based on Economic Sectors in 2014\");"
   ]
  },
  {
   "cell_type": "markdown",
   "metadata": {},
   "source": [
    "#### Conclusion\n",
    "\n",
    "As mentioned above since 2010 recession, we assumed that the IT sector's permanent visa certifications had been affected the worst and expected to see the higher rate of denials, but for all the years since 2011, we have found that the economic sectors with the most denial rate are homeland security, agricultural business, hospitality. This was surprising because we did not expect something like homeland security to have filed applications in the first place and also have higher number of denials.\n",
    "This goes against our assumption and also tells us that, if something like homeland security has a higher denial rate, then the decision is not biased and does not depend on this attribute."
   ]
  },
  {
   "cell_type": "markdown",
   "metadata": {},
   "source": [
    "### Second Finding"
   ]
  },
  {
   "cell_type": "markdown",
   "metadata": {},
   "source": [
    "We are students who currently hold F1 visa and hence we are interested in the visa type **H-1B and F-1 Visa**. Also as seen above most number of applicants in this dataset entered USA on H-1B. \n",
    "\n",
    "So we assume here that the approval rate for applicants who entered USA for **H-1B and F-1 Visa** is constant over the years. Lets see what we find from this analysis."
   ]
  },
  {
   "cell_type": "code",
   "execution_count": 58,
   "metadata": {},
   "outputs": [],
   "source": [
    "visa_trans_h1_f1_status=pd.DataFrame(visa_trans_h1_f1.groupby(['year','class_of_admission','case_status'])['class_of_admission'].agg(['count']).reset_index())\n",
    "pd.to_numeric(visa_trans_h1_f1_status['count'],downcast='float');\n"
   ]
  },
  {
   "cell_type": "code",
   "execution_count": 59,
   "metadata": {},
   "outputs": [],
   "source": [
    "Visa_yearly_ratio=(visa_trans_h1_f1_status[visa_trans_h1_f1_status['case_status']!='Denied'].groupby(['year','class_of_admission'])['count'].sum()/visa_trans_h1_f1_status.groupby(['year','class_of_admission'])['count'].sum()).reset_index()"
   ]
  },
  {
   "cell_type": "code",
   "execution_count": 60,
   "metadata": {},
   "outputs": [],
   "source": [
    "H1F1_visa=Visa_yearly_ratio.pivot(index='year', columns='class_of_admission', values='count')"
   ]
  },
  {
   "cell_type": "code",
   "execution_count": 61,
   "metadata": {},
   "outputs": [
    {
     "name": "stdout",
     "output_type": "stream",
     "text": [
      "Populating the interactive namespace from numpy and matplotlib\n"
     ]
    },
    {
     "data": {
      "image/png": "[encoded data removed]",
      "text/plain": [
       "<matplotlib.figure.Figure at 0x14231410>"
      ]
     },
     "metadata": {},
     "output_type": "display_data"
    }
   ],
   "source": [
    "%pylab inline\n",
    "H1F1_visa.plot();"
   ]
  },
  {
   "cell_type": "markdown",
   "metadata": {},
   "source": [
    "Interesting to see that the acceptance rate for both these visa types has been declining since before 2011. As we mentioned above that in the year 2010 there was a recession. This could be a reason that we see a decline in the approval rates since before 2010 until 2013. But it would also be interesting to find out the which companies were affected mainly over these years."
   ]
  },
  {
   "cell_type": "markdown",
   "metadata": {},
   "source": [
    "#### Finding 10 companies with lowest approval rate"
   ]
  },
  {
   "cell_type": "code",
   "execution_count": 62,
   "metadata": {
    "scrolled": true
   },
   "outputs": [
    {
     "data": {
      "text/plain": [
       "employer_name\n",
       "INFOSYS TECHNOLOGIES LIMITED           0.014286\n",
       "WIPRO LIMITED                          0.022222\n",
       "ORACLE USA, INC.                       0.071429\n",
       "GARLAND INDEPENDENT SCHOOL DISTRICT    0.076923\n",
       "APEX TECHNOLOGY GROUP INC.             0.080000\n",
       "GOLDMAN, SACHS & CO.                   0.111111\n",
       "DATAMETRICS SOFTWARE SYSTEMS LLC       0.142857\n",
       "GALAXY SOFTWARE SOLUTIONS INC.         0.142857\n",
       "YASHRAJ TECHNOLOGIES INC               0.142857\n",
       "DGN TECHNOLOGIES INC.                  0.152778\n",
       "Name: employer_name, dtype: float64"
      ]
     },
     "execution_count": 62,
     "metadata": {},
     "output_type": "execute_result"
    }
   ],
   "source": [
    "(visa_trans_h1_f1[(visa_trans_h1_f1['year'] == 2013) & (visa_trans_h1_f1['case_status'] == 'Certified')].groupby('employer_name')['employer_name'].count()\\\n",
    "/visa_trans_h1_f1[(visa_trans_h1_f1['year'] == 2013)].groupby('employer_name')['employer_name'].count()).nsmallest(10)"
   ]
  },
  {
   "cell_type": "markdown",
   "metadata": {},
   "source": [
    "We can see that Infosys has the lowest approval rate. Lets explore more about Infosys application in the years 2011-2015."
   ]
  },
  {
   "cell_type": "code",
   "execution_count": 63,
   "metadata": {},
   "outputs": [],
   "source": [
    "Infosys_df=pd.DataFrame((visa_trans_h1_f1[(visa_trans_h1_f1['employer_name'].str.contains(\"INFOSYS TECHNOLOGIES LIMITED\")) & (visa_trans_h1_f1['case_status'] == 'Denied')].groupby(['year'])['case_no'].count())/(visa_trans_h1_f1[visa_trans_h1_f1['employer_name'].str.contains(\"INFOSYS TECHNOLOGIES LIMITED\")].groupby(['year'])['case_no'].count())).reset_index()"
   ]
  },
  {
   "cell_type": "code",
   "execution_count": 64,
   "metadata": {},
   "outputs": [
    {
     "data": {
      "image/png": "[encoded data removed]",
      "text/plain": [
       "<matplotlib.figure.Figure at 0x10ff96f0>"
      ]
     },
     "metadata": {},
     "output_type": "display_data"
    }
   ],
   "source": [
    "g=sns.factorplot(x=\"year\", y=\"case_no\",data=Infosys_df, saturation=.5,kind=\"bar\",ci=None, aspect=2, legend=False);\n",
    "plt.ylabel(\"Denial Rate\");"
   ]
  },
  {
   "cell_type": "markdown",
   "metadata": {},
   "source": [
    "We can see denial rate for permanent visa of employees working in Infosys is very high and mostly is 100%.\n",
    "\n",
    "#### Conclusion\n",
    "\n",
    "Interesting to know that, Jack Palmer a former employee of Infosys filed a case in Alabama in 2011, in the southern United States, that Infosys was illegally migrating employees from India on a business visa for conferences and that the company utilized this opportunity to satisfy their own technical needs in different projects by making the employees over stay and take over those job roles from H1B candidates. But this case was dismissed by the court due to lack of evidence. This later caught attention and in 2012 Federal prosecutors found that Infosys committed a systematic visa fraud and abuse. \n",
    "Due to which we assume that the USCIS took strict action post their settlement with the Federal prosecutors and have almost 100% denial rate. \n",
    "\n",
    "We also see that there is an increase in approval rate from 2013. This could also be because President Obama was inaugurated for a second term as president of the United States and also 2014 has been the strongest year of the U.S. labor market recovery which could also be because of the same reason. \n",
    "\n",
    "References:\n",
    "* https://www.dawn.com/news/1053389\n",
    "\n",
    "* http://money.cnn.com/2013/10/30/news/companies/infosys-immigration-settlement/\n",
    "\n",
    "* http://profit.ndtv.com/news/corporates/article-who-is-infosys-whistleblower-jack-palmer-371036\n",
    "\n",
    "* https://www.history.com/news/this-year-in-history-2013\n",
    "\n",
    "* https://www.cfr.org/backgrounder/us-supreme-court-and-obamas-immigration-actions\n",
    "\n",
    "* https://www.usnews.com/news/articles/2014/12/30/2014-the-us-economys-breakout-year"
   ]
  },
  {
   "cell_type": "markdown",
   "metadata": {},
   "source": [
    "### Third Finding"
   ]
  },
  {
   "cell_type": "markdown",
   "metadata": {},
   "source": [
    "We assume that permanent work visa must be tougher to get compared to H1B visa's, is it true?\n",
    "\n",
    "Lets see which Visa has better approval rate? **H-1B** or **Permanent Visa** ?"
   ]
  },
  {
   "cell_type": "markdown",
   "metadata": {},
   "source": [
    "#### H-1B Visa Application Import & Clean"
   ]
  },
  {
   "cell_type": "markdown",
   "metadata": {},
   "source": [
    "We can get the `h1b_Visa.csv` data (Source: [Link](https://www.kaggle.com/msingh32/h1b-visa/data))."
   ]
  },
  {
   "cell_type": "markdown",
   "metadata": {},
   "source": [
    "This dataset is similar to the permanent visa dataset. Although, it only includes data for H-1B processing."
   ]
  },
  {
   "cell_type": "code",
   "execution_count": 65,
   "metadata": {},
   "outputs": [],
   "source": [
    "h1b_visa_df= pd.read_csv('h1b_Visa.csv', low_memory=False,encoding='latin-1') "
   ]
  },
  {
   "cell_type": "markdown",
   "metadata": {},
   "source": [
    "You can download the Dataset from the following link\n",
    "\n",
    "- https://drive.google.com/file/d/1O-wfiH8jeHmF_RJWvkHgpHDTLr9emqiE/view?usp=sharing"
   ]
  },
  {
   "cell_type": "code",
   "execution_count": 66,
   "metadata": {},
   "outputs": [],
   "source": [
    "h1b_visa_df=h1b_visa_df[(h1b_visa_df['CASE_STATUS']=='CERTIFIED-WITHDRAWN') | (h1b_visa_df['CASE_STATUS']=='CERTIFIED') | (h1b_visa_df['CASE_STATUS']=='DENIED') | (h1b_visa_df['CASE_STATUS']=='REJECTED')]"
   ]
  },
  {
   "cell_type": "code",
   "execution_count": 67,
   "metadata": {},
   "outputs": [],
   "source": [
    "h1b_visa_df['CASE_STATUS']=h1b_visa_df['CASE_STATUS'].replace(['CERTIFIED-WITHDRAWN'],'CERTIFIED')\n",
    "h1b_visa_df['CASE_STATUS']=h1b_visa_df['CASE_STATUS'].replace(['REJECTED'],'DENIED')\n",
    "h1b_visa_df['YEAR']= h1b_visa_df['YEAR'].astype(int)"
   ]
  },
  {
   "cell_type": "markdown",
   "metadata": {},
   "source": [
    "#### H-1B Visa application approval rate"
   ]
  },
  {
   "cell_type": "code",
   "execution_count": 68,
   "metadata": {},
   "outputs": [],
   "source": [
    "h1b_visa_df_count=pd.DataFrame(h1b_visa_df.groupby(['YEAR','CASE_STATUS'])['CASE_STATUS'].agg(['count']).reset_index())\n",
    "pd.to_numeric(h1b_visa_df_count['count'],downcast='float');\n",
    "\n",
    "h1b_visa_approval_rate=(h1b_visa_df_count[h1b_visa_df_count['CASE_STATUS']!='DENIED'].groupby(['YEAR'])['count'].sum()/h1b_visa_df_count.groupby(['YEAR'])['count'].sum()).reset_index();"
   ]
  },
  {
   "cell_type": "markdown",
   "metadata": {},
   "source": [
    "#### Permanent Visa approval rate "
   ]
  },
  {
   "cell_type": "code",
   "execution_count": 69,
   "metadata": {},
   "outputs": [],
   "source": [
    "total_visa=visa_trans\n",
    "total_visa_count=pd.DataFrame(total_visa.groupby(['year','case_status'])['case_status'].agg(['count']).reset_index())\n",
    "pd.to_numeric(total_visa_count['count'],downcast='float');\n",
    "\n",
    "perm_visa_approval_rate=(total_visa_count[total_visa_count['case_status']!='Denied'].groupby(['year'])['count'].sum()/total_visa_count.groupby(['year'])['count'].sum()).reset_index();"
   ]
  },
  {
   "cell_type": "markdown",
   "metadata": {},
   "source": [
    "#### Comparing approval rate of H-1B applications and Permanent Visa Applications"
   ]
  },
  {
   "cell_type": "code",
   "execution_count": 70,
   "metadata": {},
   "outputs": [
    {
     "data": {
      "image/png": "[encoded data removed]",
      "text/plain": [
       "<matplotlib.figure.Figure at 0x11090410>"
      ]
     },
     "metadata": {},
     "output_type": "display_data"
    }
   ],
   "source": [
    "g=sns.factorplot(x=\"year\", y=\"count\",data=perm_visa_approval_rate, aspect=5, size=3); \n",
    "plt.title('Permanent Visa Application Approval Rate');\n",
    "plt.ylabel('Approval Rate');"
   ]
  },
  {
   "cell_type": "code",
   "execution_count": 71,
   "metadata": {},
   "outputs": [
    {
     "data": {
      "image/png": "[encoded data removed]",
      "text/plain": [
       "<matplotlib.figure.Figure at 0x11090a10>"
      ]
     },
     "metadata": {},
     "output_type": "display_data"
    }
   ],
   "source": [
    "g=sns.factorplot(x=\"YEAR\", y=\"count\",data=h1b_visa_approval_rate, aspect=5, size=3); \n",
    "plt.title('H-1B Visa Application Approval Rate');\n",
    "plt.ylabel('Approval Rate');"
   ]
  },
  {
   "cell_type": "markdown",
   "metadata": {},
   "source": [
    "#### Conclusion"
   ]
  },
  {
   "cell_type": "markdown",
   "metadata": {
    "collapsed": true
   },
   "source": [
    "Interestingly, H-1B decisions doesn't seem to be affected as the permanent visa decision. There are many external factors that determine the approval rate of permanent visas, yet H-1B shows constant increase in approvals. This goes against our assumption, H-1B has better approval rate than permanent visa applications.\n",
    "\n",
    "------------"
   ]
  },
  {
   "cell_type": "markdown",
   "metadata": {},
   "source": [
    "## Decision Tree \n",
    "\n",
    "### Why use Supervised Learning?\n",
    "\n",
    "Supervised learning is used when the 'Target' column is known in the dataset. Here, the target of the features(columns) is the `case_status` which determines if a permanent work visa has been Certified or Denied. Hence, using a supervised learning method is ideal and can help train a model based on the dataset to correctly predict the outcome of a Visa Application.\n",
    "\n"
   ]
  },
  {
   "cell_type": "markdown",
   "metadata": {},
   "source": [
    "As mentioned above, we hold F-1 visa and hence we are interested to know the factors that affect the outcome of the decision tree for the **F-1 Visa**. So we are limiting our Decision Tree analysis to the F-1 visa type."
   ]
  },
  {
   "cell_type": "code",
   "execution_count": 72,
   "metadata": {},
   "outputs": [],
   "source": [
    "f1=visa_trans_h1_f1[visa_trans_h1_f1['class_of_admission']=='F-1']"
   ]
  },
  {
   "cell_type": "markdown",
   "metadata": {},
   "source": [
    "The data is further filtered based on the years as we have education data only for these 3 years and we assume that this could be one of the features to determine the outcome of the Decision Tree. "
   ]
  },
  {
   "cell_type": "code",
   "execution_count": 73,
   "metadata": {},
   "outputs": [],
   "source": [
    "f1=f1[(f1['year']==2014) | (f1['year']==2015) | (f1['year']==2016)]"
   ]
  },
  {
   "cell_type": "markdown",
   "metadata": {},
   "source": [
    "We are considering only the following set of features."
   ]
  },
  {
   "cell_type": "code",
   "execution_count": 74,
   "metadata": {},
   "outputs": [],
   "source": [
    "visa = f1[['case_status','employer_state','foreign_worker_info_education','year','country_of_citizenship','yearly_pay','region']]"
   ]
  },
  {
   "cell_type": "markdown",
   "metadata": {},
   "source": [
    "### Pre-processing columns"
   ]
  },
  {
   "cell_type": "markdown",
   "metadata": {},
   "source": [
    "As mentioned above, we are using the Decision Tree Classifier to train a model that can predict the outcome of a permanent work visa application. For this to happen, the categorical data must first be converted into numerical values for the model to be trained. Hence, pre-processing helps to achieve this conversion."
   ]
  },
  {
   "cell_type": "markdown",
   "metadata": {},
   "source": [
    "We are taking the features(columns) mentioned above as they are categorical data."
   ]
  },
  {
   "cell_type": "markdown",
   "metadata": {},
   "source": [
    "Preprocessing **case_status** Column"
   ]
  },
  {
   "cell_type": "code",
   "execution_count": 75,
   "metadata": {},
   "outputs": [
    {
     "data": {
      "text/plain": [
       "array(['Certified', 'Denied'], dtype=object)"
      ]
     },
     "execution_count": 75,
     "metadata": {},
     "output_type": "execute_result"
    }
   ],
   "source": [
    "import sklearn.preprocessing as pp\n",
    "le = pp.LabelEncoder()\n",
    "visa['case_status'].unique()\n",
    "visa.case_status = le.fit_transform(visa['case_status'].astype(str))"
   ]
  },
  {
   "cell_type": "code",
   "execution_count": 76,
   "metadata": {},
   "outputs": [
    {
     "data": {
      "text/plain": [
       "array([0, 1], dtype=int64)"
      ]
     },
     "execution_count": 76,
     "metadata": {},
     "output_type": "execute_result"
    }
   ],
   "source": [
    "visa['case_status'].unique()"
   ]
  },
  {
   "cell_type": "markdown",
   "metadata": {},
   "source": [
    "The `case_status` column has 2 unique values which have been pre-processed."
   ]
  },
  {
   "cell_type": "markdown",
   "metadata": {},
   "source": [
    "Preprocessing **employer_state** Column"
   ]
  },
  {
   "cell_type": "code",
   "execution_count": 77,
   "metadata": {},
   "outputs": [
    {
     "data": {
      "text/plain": [
       "array(['FL', 'WA', 'CA', 'VA', 'IL', 'NY', 'TX', 'LA', 'OH', 'CT', 'GA',\n",
       "       'UT', 'MD', 'NJ', 'AZ', 'RI', 'MN', 'MI', 'ME', 'IA', 'NC', 'MO',\n",
       "       'AL', 'NE', 'KY', 'HI', 'PA', 'IN', 'WI', 'VT', 'WV', 'NM', 'MA',\n",
       "       'NV', 'TN', 'MT', 'AR', 'SC', 'KS', 'CO', 'MS', 'DE', 'ID', 'OR',\n",
       "       'OK', 'NH', 'WY', 'SD', 'AK', 'ND'], dtype=object)"
      ]
     },
     "execution_count": 77,
     "metadata": {},
     "output_type": "execute_result"
    }
   ],
   "source": [
    "le = pp.LabelEncoder()\n",
    "visa['employer_state'].unique()\n",
    "visa.employer_state = le.fit_transform(visa['employer_state'].astype(str))"
   ]
  },
  {
   "cell_type": "code",
   "execution_count": 78,
   "metadata": {},
   "outputs": [
    {
     "data": {
      "text/plain": [
       "array([ 8, 46,  4, 44, 13, 33, 42, 17, 34,  6,  9, 43, 19, 30,  3, 38, 22,\n",
       "       21, 20, 11, 26, 23,  1, 28, 16, 10, 37, 14, 47, 45, 48, 31, 18, 32,\n",
       "       41, 25,  2, 39, 15,  5, 24,  7, 12, 36, 35, 29, 49, 40,  0, 27],\n",
       "      dtype=int64)"
      ]
     },
     "execution_count": 78,
     "metadata": {},
     "output_type": "execute_result"
    }
   ],
   "source": [
    "visa['employer_state'].unique()"
   ]
  },
  {
   "cell_type": "markdown",
   "metadata": {},
   "source": [
    "The `employer_state` column has 50 unique values which have been pre-processed."
   ]
  },
  {
   "cell_type": "markdown",
   "metadata": {},
   "source": [
    "Preprocessing **Region** Column"
   ]
  },
  {
   "cell_type": "code",
   "execution_count": 79,
   "metadata": {},
   "outputs": [
    {
     "data": {
      "text/plain": [
       "array(['South', 'West', 'Midwest', 'Northeast'], dtype=object)"
      ]
     },
     "execution_count": 79,
     "metadata": {},
     "output_type": "execute_result"
    }
   ],
   "source": [
    "le = pp.LabelEncoder()\n",
    "visa['region'].unique()\n",
    "visa.region = le.fit_transform(visa['region'].astype(str))"
   ]
  },
  {
   "cell_type": "code",
   "execution_count": 80,
   "metadata": {},
   "outputs": [
    {
     "data": {
      "text/plain": [
       "array([2, 3, 0, 1], dtype=int64)"
      ]
     },
     "execution_count": 80,
     "metadata": {},
     "output_type": "execute_result"
    }
   ],
   "source": [
    "visa['region'].unique()"
   ]
  },
  {
   "cell_type": "markdown",
   "metadata": {},
   "source": [
    "The `region` column has four unique values which have been pre-processed."
   ]
  },
  {
   "cell_type": "markdown",
   "metadata": {},
   "source": [
    "Preprocessing **foreign_worker_info_education** Column"
   ]
  },
  {
   "cell_type": "code",
   "execution_count": 81,
   "metadata": {},
   "outputs": [
    {
     "data": {
      "text/plain": [
       "array(['Unknown', 'None', \"Bachelor's\", 'Doctorate', \"Master's\", 'Other',\n",
       "       'High School', \"Associate's\"], dtype=object)"
      ]
     },
     "execution_count": 81,
     "metadata": {},
     "output_type": "execute_result"
    }
   ],
   "source": [
    "le = pp.LabelEncoder()\n",
    "visa['foreign_worker_info_education'].unique()\n",
    "visa.foreign_worker_info_education = le.fit_transform(visa['foreign_worker_info_education'].astype(str))"
   ]
  },
  {
   "cell_type": "code",
   "execution_count": 82,
   "metadata": {},
   "outputs": [
    {
     "data": {
      "text/plain": [
       "array([7, 5, 1, 2, 4, 6, 3, 0], dtype=int64)"
      ]
     },
     "execution_count": 82,
     "metadata": {},
     "output_type": "execute_result"
    }
   ],
   "source": [
    "visa['foreign_worker_info_education'].unique()"
   ]
  },
  {
   "cell_type": "markdown",
   "metadata": {},
   "source": [
    "The `foreign_worker_info_education` column has several unique values which have been pre-processed."
   ]
  },
  {
   "cell_type": "markdown",
   "metadata": {},
   "source": [
    "Preprocessing **year** Column"
   ]
  },
  {
   "cell_type": "code",
   "execution_count": 83,
   "metadata": {},
   "outputs": [
    {
     "data": {
      "text/plain": [
       "array([2014, 2015, 2016], dtype=int64)"
      ]
     },
     "execution_count": 83,
     "metadata": {},
     "output_type": "execute_result"
    }
   ],
   "source": [
    "le = pp.LabelEncoder()\n",
    "visa['year'].unique()\n",
    "visa.year = le.fit_transform(visa['year'].astype(str))"
   ]
  },
  {
   "cell_type": "code",
   "execution_count": 84,
   "metadata": {},
   "outputs": [
    {
     "data": {
      "text/plain": [
       "array([0, 1, 2], dtype=int64)"
      ]
     },
     "execution_count": 84,
     "metadata": {},
     "output_type": "execute_result"
    }
   ],
   "source": [
    "visa['year'].unique()"
   ]
  },
  {
   "cell_type": "markdown",
   "metadata": {},
   "source": [
    "The `year` column has three unique values which have been pre-processed."
   ]
  },
  {
   "cell_type": "markdown",
   "metadata": {},
   "source": [
    "Preprocessing **country of citizenship** Column"
   ]
  },
  {
   "cell_type": "code",
   "execution_count": 85,
   "metadata": {},
   "outputs": [
    {
     "data": {
      "text/plain": [
       "array(['VENEZUELA', 'INDIA', 'JAPAN', 'PHILIPPINES', 'SOUTH KOREA',\n",
       "       'CHINA', 'IRAN', 'UKRAINE', 'PAKISTAN', 'RUSSIA', 'CANADA',\n",
       "       'NEPAL', 'BANGLADESH', 'MALAYSIA', 'DOMINICAN REPUBLIC', 'CHILE',\n",
       "       'URUGUAY', 'TURKEY', 'TAIWAN', 'BULGARIA', 'ITALY',\n",
       "       'UNITED STATES OF AMERICA', 'BRAZIL', 'NIGERIA', 'SPAIN',\n",
       "       'UNITED KINGDOM', 'PERU', 'SINGAPORE', 'EGYPT', 'POLAND',\n",
       "       'COLOMBIA', 'INDONESIA', 'SRI LANKA', 'CZECH REPUBLIC', 'GAMBIA',\n",
       "       'CAMEROON', 'GERMANY', 'ALBANIA', 'TRINIDAD AND TOBAGO', 'FRANCE',\n",
       "       'NETHERLANDS', 'TURKMENISTAN', 'JORDAN', 'ETHIOPIA', 'THAILAND',\n",
       "       'SOUTH AFRICA', 'SAUDI ARABIA', 'ECUADOR', 'MONGOLIA', 'GHANA',\n",
       "       'VIETNAM', 'ISRAEL', 'ARGENTINA', 'GEORGIA', 'CYPRUS', 'AUSTRIA',\n",
       "       'ARMENIA', 'ALGERIA', 'HONG KONG', 'LIBYA', 'EL SALVADOR',\n",
       "       'LITHUANIA', 'MEXICO', 'ROMANIA', 'RWANDA', 'BURMA (MYANMAR)',\n",
       "       'HONDURAS', 'SLOVAKIA', 'LEBANON', 'SYRIA', 'AZERBAIJAN', 'SERBIA',\n",
       "       'SWEDEN', 'GUATEMALA', 'MOLDOVA', 'BAHAMAS', 'MAURITIUS',\n",
       "       'SWITZERLAND', 'BELARUS', 'PALESTINE', 'GREECE',\n",
       "       'ST KITTS AND NEVIS', 'UZBEKISTAN', 'AFGHANISTAN', 'TAJIKISTAN',\n",
       "       'ZIMBABWE', 'KYRGYZSTAN', 'JAMAICA', 'NEW ZEALAND',\n",
       "       'DEMOCRATIC REPUBLIC OF CONGO', 'BELIZE', 'KENYA', 'BURKINA FASO',\n",
       "       'HUNGARY', nan, 'MOROCCO', 'AUSTRALIA', 'IVORY COAST', 'ZAMBIA',\n",
       "       'GABON', 'MACAU', 'PARAGUAY', 'BOLIVIA', 'LUXEMBOURG', 'HAITI',\n",
       "       'IRELAND', 'SAINT VINCENT AND THE GRENADINES', 'PORTUGAL',\n",
       "       'BRITISH VIRGIN ISLANDS', 'TANZANIA', 'BARBADOS',\n",
       "       'ANTIGUA AND BARBUDA', 'GRENADA', 'BELGIUM', 'BOTSWANA',\n",
       "       'SERBIA AND MONTENEGRO', 'KAZAKHSTAN', 'COSTA RICA', 'UGANDA',\n",
       "       'TUNISIA', 'MACEDONIA', 'BENIN', 'YEMEN', 'IRAQ', 'NICARAGUA',\n",
       "       'KOSOVO', 'CAYMAN ISLANDS', 'MALI', 'CROATIA', \"COTE d'IVOIRE\",\n",
       "       'GUYANA', 'LATVIA', 'BAHRAIN', 'SLOVENIA', 'KUWAIT', 'CAMBODIA',\n",
       "       'SWAZILAND', 'DENMARK', 'BHUTAN', 'ANGOLA'], dtype=object)"
      ]
     },
     "execution_count": 85,
     "metadata": {},
     "output_type": "execute_result"
    }
   ],
   "source": [
    "le = pp.LabelEncoder()\n",
    "visa['country_of_citizenship'].unique()\n",
    "visa.country_of_citizenship = le.fit_transform(visa['country_of_citizenship'].astype(str))"
   ]
  },
  {
   "cell_type": "code",
   "execution_count": 86,
   "metadata": {},
   "outputs": [
    {
     "data": {
      "text/plain": [
       "array([134,  59,  68,  98, 112,  31,  61, 129,  94, 102,  28,  89,  12,\n",
       "        82,  40,  30, 132, 126, 120,  23,  65, 131,  21,  93, 113, 130,\n",
       "        97, 108,  42,  99,  32,  60, 114,  37,  47,  27,  49,   1, 124,\n",
       "        45,  90, 127,  69,  44, 123, 111, 105,  41,  87,  50, 135,  64,\n",
       "         5,  48,  36,   8,   6,   2,  57,  77,  43,  78,  85, 101, 103,\n",
       "        25,  56, 109,  76, 119,   9, 106, 117,  53,  86,  10,  84, 118,\n",
       "        14,  95,  51, 115, 133,   0, 121, 138,  74,  67,  91,  38,  16,\n",
       "        71,  24,  58, 139,  88,   7,  66, 137,  46,  80,  96,  19,  79,\n",
       "        55,  63, 104, 100,  22, 122,  13,   4,  52,  15,  20, 107,  70,\n",
       "        33, 128, 125,  81,  17, 136,  62,  92,  72,  29,  83,  35,  34,\n",
       "        54,  75,  11, 110,  73,  26, 116,  39,  18,   3], dtype=int64)"
      ]
     },
     "execution_count": 86,
     "metadata": {},
     "output_type": "execute_result"
    }
   ],
   "source": [
    "visa['country_of_citizenship'].unique()"
   ]
  },
  {
   "cell_type": "markdown",
   "metadata": {},
   "source": [
    "The `country_of_citizenship` column has several unique values which have been pre-processed."
   ]
  },
  {
   "cell_type": "markdown",
   "metadata": {},
   "source": [
    "Processing **Yearly_salary** column"
   ]
  },
  {
   "cell_type": "code",
   "execution_count": 87,
   "metadata": {},
   "outputs": [
    {
     "data": {
      "text/plain": [
       "array([108493.,  86278.,  91988., ...,  84178., 110448., 113381.])"
      ]
     },
     "execution_count": 87,
     "metadata": {},
     "output_type": "execute_result"
    }
   ],
   "source": [
    "le = pp.LabelEncoder()\n",
    "visa['yearly_pay'].unique()\n",
    "visa.remuneration = le.fit_transform(visa['yearly_pay'].astype(str))"
   ]
  },
  {
   "cell_type": "code",
   "execution_count": 88,
   "metadata": {},
   "outputs": [
    {
     "data": {
      "text/plain": [
       "array([108493.,  86278.,  91988., ...,  84178., 110448., 113381.])"
      ]
     },
     "execution_count": 88,
     "metadata": {},
     "output_type": "execute_result"
    }
   ],
   "source": [
    "visa['yearly_pay'].unique()"
   ]
  },
  {
   "cell_type": "markdown",
   "metadata": {},
   "source": [
    "The `yearly_pay` column has several unique values which have been pre-processed."
   ]
  },
  {
   "cell_type": "markdown",
   "metadata": {},
   "source": [
    "### Building the decision tree"
   ]
  },
  {
   "cell_type": "markdown",
   "metadata": {},
   "source": [
    "We will Build and visualize a decision tree with depth of 1 (i.e., one root and two leaf nodes) to observe the basis with which the model has determines the outcome."
   ]
  },
  {
   "cell_type": "code",
   "execution_count": 89,
   "metadata": {},
   "outputs": [],
   "source": [
    "import sklearn as sk\n",
    "from sklearn.tree import DecisionTreeClassifier"
   ]
  },
  {
   "cell_type": "code",
   "execution_count": 90,
   "metadata": {},
   "outputs": [],
   "source": [
    "X = visa.drop(['case_status','employer_state','country_of_citizenship','year'], axis=1)\n",
    "y = visa['case_status']"
   ]
  },
  {
   "cell_type": "markdown",
   "metadata": {},
   "source": [
    "### Decision Tree with Depth as 1"
   ]
  },
  {
   "cell_type": "code",
   "execution_count": 91,
   "metadata": {},
   "outputs": [],
   "source": [
    "dtc_visa_case_status=DecisionTreeClassifier(max_depth=1).fit(X,y)"
   ]
  },
  {
   "cell_type": "markdown",
   "metadata": {},
   "source": [
    "### Plotting the decision tree of depth 1"
   ]
  },
  {
   "cell_type": "code",
   "execution_count": 92,
   "metadata": {},
   "outputs": [
    {
     "data": {
      "image/svg+xml": [
       "<?xml version=\"1.0\" encoding=\"UTF-8\" standalone=\"no\"?>\r\n",
       "<!DOCTYPE svg PUBLIC \"-//W3C//DTD SVG 1.1//EN\"\r\n",
       " \"http://www.w3.org/Graphics/SVG/1.1/DTD/svg11.dtd\">\r\n",
       "<!-- Generated by graphviz version 2.38.0 (20140413.2041)\r\n",
       " -->\r\n",
       "<!-- Title: Tree Pages: 1 -->\r\n",
       "<svg width=\"334pt\" height=\"195pt\"\r\n",
       " viewBox=\"0.00 0.00 334.00 195.00\" xmlns=\"http://www.w3.org/2000/svg\" xmlns:xlink=\"http://www.w3.org/1999/xlink\">\r\n",
       "<g id=\"graph0\" class=\"graph\" transform=\"scale(1 1) rotate(0) translate(4 191)\">\r\n",
       "<title>Tree</title>\r\n",
       "<polygon fill=\"white\" stroke=\"none\" points=\"-4,4 -4,-191 330,-191 330,4 -4,4\"/>\r\n",
       "<!-- 0 -->\r\n",
       "<g id=\"node1\" class=\"node\"><title>0</title>\r\n",
       "<path fill=\"#e58139\" fill-opacity=\"0.905882\" stroke=\"black\" d=\"M228,-187C228,-187 98,-187 98,-187 92,-187 86,-181 86,-175 86,-175 86,-116 86,-116 86,-110 92,-104 98,-104 98,-104 228,-104 228,-104 234,-104 240,-110 240,-116 240,-116 240,-175 240,-175 240,-181 234,-187 228,-187\"/>\r\n",
       "<text text-anchor=\"start\" x=\"95\" y=\"-171.8\" font-family=\"Helvetica,sans-Serif\" font-size=\"14.00\">yearly_pay ≤ 81188.0</text>\r\n",
       "<text text-anchor=\"start\" x=\"125.5\" y=\"-156.8\" font-family=\"Helvetica,sans-Serif\" font-size=\"14.00\">gini = 0.156</text>\r\n",
       "<text text-anchor=\"start\" x=\"103\" y=\"-141.8\" font-family=\"Helvetica,sans-Serif\" font-size=\"14.00\">samples = 100.0%</text>\r\n",
       "<text text-anchor=\"start\" x=\"94\" y=\"-126.8\" font-family=\"Helvetica,sans-Serif\" font-size=\"14.00\">value = [0.915, 0.085]</text>\r\n",
       "<text text-anchor=\"start\" x=\"111.5\" y=\"-111.8\" font-family=\"Helvetica,sans-Serif\" font-size=\"14.00\">class = Certified</text>\r\n",
       "</g>\r\n",
       "<!-- 1 -->\r\n",
       "<g id=\"node2\" class=\"node\"><title>1</title>\r\n",
       "<path fill=\"#e58139\" fill-opacity=\"0.878431\" stroke=\"black\" d=\"M142,-68C142,-68 12,-68 12,-68 6,-68 0,-62 0,-56 0,-56 0,-12 0,-12 0,-6 6,-0 12,-0 12,-0 142,-0 142,-0 148,-0 154,-6 154,-12 154,-12 154,-56 154,-56 154,-62 148,-68 142,-68\"/>\r\n",
       "<text text-anchor=\"start\" x=\"39.5\" y=\"-52.8\" font-family=\"Helvetica,sans-Serif\" font-size=\"14.00\">gini = 0.193</text>\r\n",
       "<text text-anchor=\"start\" x=\"21\" y=\"-37.8\" font-family=\"Helvetica,sans-Serif\" font-size=\"14.00\">samples = 61.0%</text>\r\n",
       "<text text-anchor=\"start\" x=\"8\" y=\"-22.8\" font-family=\"Helvetica,sans-Serif\" font-size=\"14.00\">value = [0.892, 0.108]</text>\r\n",
       "<text text-anchor=\"start\" x=\"25.5\" y=\"-7.8\" font-family=\"Helvetica,sans-Serif\" font-size=\"14.00\">class = Certified</text>\r\n",
       "</g>\r\n",
       "<!-- 0&#45;&gt;1 -->\r\n",
       "<g id=\"edge1\" class=\"edge\"><title>0&#45;&gt;1</title>\r\n",
       "<path fill=\"none\" stroke=\"black\" d=\"M130.977,-103.726C123.957,-94.7878 116.518,-85.3168 109.48,-76.3558\"/>\r\n",
       "<polygon fill=\"black\" stroke=\"black\" points=\"112.082,-74.0022 103.153,-68.2996 106.577,-78.3259 112.082,-74.0022\"/>\r\n",
       "<text text-anchor=\"middle\" x=\"100.169\" y=\"-89.4209\" font-family=\"Helvetica,sans-Serif\" font-size=\"14.00\">True</text>\r\n",
       "</g>\r\n",
       "<!-- 2 -->\r\n",
       "<g id=\"node3\" class=\"node\"><title>2</title>\r\n",
       "<path fill=\"#e58139\" fill-opacity=\"0.949020\" stroke=\"black\" d=\"M314,-68C314,-68 184,-68 184,-68 178,-68 172,-62 172,-56 172,-56 172,-12 172,-12 172,-6 178,-0 184,-0 184,-0 314,-0 314,-0 320,-0 326,-6 326,-12 326,-12 326,-56 326,-56 326,-62 320,-68 314,-68\"/>\r\n",
       "<text text-anchor=\"start\" x=\"211.5\" y=\"-52.8\" font-family=\"Helvetica,sans-Serif\" font-size=\"14.00\">gini = 0.093</text>\r\n",
       "<text text-anchor=\"start\" x=\"193\" y=\"-37.8\" font-family=\"Helvetica,sans-Serif\" font-size=\"14.00\">samples = 39.0%</text>\r\n",
       "<text text-anchor=\"start\" x=\"180\" y=\"-22.8\" font-family=\"Helvetica,sans-Serif\" font-size=\"14.00\">value = [0.951, 0.049]</text>\r\n",
       "<text text-anchor=\"start\" x=\"197.5\" y=\"-7.8\" font-family=\"Helvetica,sans-Serif\" font-size=\"14.00\">class = Certified</text>\r\n",
       "</g>\r\n",
       "<!-- 0&#45;&gt;2 -->\r\n",
       "<g id=\"edge2\" class=\"edge\"><title>0&#45;&gt;2</title>\r\n",
       "<path fill=\"none\" stroke=\"black\" d=\"M195.023,-103.726C202.043,-94.7878 209.482,-85.3168 216.52,-76.3558\"/>\r\n",
       "<polygon fill=\"black\" stroke=\"black\" points=\"219.423,-78.3259 222.847,-68.2996 213.918,-74.0022 219.423,-78.3259\"/>\r\n",
       "<text text-anchor=\"middle\" x=\"225.831\" y=\"-89.4209\" font-family=\"Helvetica,sans-Serif\" font-size=\"14.00\">False</text>\r\n",
       "</g>\r\n",
       "</g>\r\n",
       "</svg>\r\n"
      ],
      "text/plain": [
       "<graphviz.files.Source at 0x10eecf10>"
      ]
     },
     "execution_count": 92,
     "metadata": {},
     "output_type": "execute_result"
    }
   ],
   "source": [
    "import graphviz\n",
    "dot_data = tree.export_graphviz(dtc_visa_case_status, out_file=None, \n",
    "                         feature_names=list(X.columns),  \n",
    "                         class_names =['Denied' if i == 1 else 'Certified' for i in dtc_visa_case_status.classes_] ,\n",
    "                         filled=True,rounded=True,\n",
    "                         special_characters=True,\n",
    "                               proportion=True)  \n",
    "graph = graphviz.Source(dot_data)  \n",
    "graph "
   ]
  },
  {
   "cell_type": "markdown",
   "metadata": {},
   "source": [
    "The model with depth 1 doesn't give us much insight as it just says if your salary is either less than 80K or more than 80K dollars, your permanent visa acceptance probability is really high either 89.2% or 95.1% respectively. This information is not enough to make a decision. Hence we change the depth."
   ]
  },
  {
   "cell_type": "markdown",
   "metadata": {},
   "source": [
    "### Decision Tree with Depth 4"
   ]
  },
  {
   "cell_type": "code",
   "execution_count": 93,
   "metadata": {},
   "outputs": [],
   "source": [
    "dtc_visa_case_status=DecisionTreeClassifier(max_depth=4).fit(X,y)"
   ]
  },
  {
   "cell_type": "code",
   "execution_count": 94,
   "metadata": {},
   "outputs": [
    {
     "data": {
      "image/svg+xml": [
       "<?xml version=\"1.0\" encoding=\"UTF-8\" standalone=\"no\"?>\r\n",
       "<!DOCTYPE svg PUBLIC \"-//W3C//DTD SVG 1.1//EN\"\r\n",
       " \"http://www.w3.org/Graphics/SVG/1.1/DTD/svg11.dtd\">\r\n",
       "<!-- Generated by graphviz version 2.38.0 (20140413.2041)\r\n",
       " -->\r\n",
       "<!-- Title: Tree Pages: 1 -->\r\n",
       "<svg width=\"2252pt\" height=\"552pt\"\r\n",
       " viewBox=\"0.00 0.00 2252.00 552.00\" xmlns=\"http://www.w3.org/2000/svg\" xmlns:xlink=\"http://www.w3.org/1999/xlink\">\r\n",
       "<g id=\"graph0\" class=\"graph\" transform=\"scale(1 1) rotate(0) translate(4 548)\">\r\n",
       "<title>Tree</title>\r\n",
       "<polygon fill=\"white\" stroke=\"none\" points=\"-4,4 -4,-548 2248,-548 2248,4 -4,4\"/>\r\n",
       "<!-- 0 -->\r\n",
       "<g id=\"node1\" class=\"node\"><title>0</title>\r\n",
       "<path fill=\"#e58139\" fill-opacity=\"0.905882\" stroke=\"black\" d=\"M1279.5,-544C1279.5,-544 1149.5,-544 1149.5,-544 1143.5,-544 1137.5,-538 1137.5,-532 1137.5,-532 1137.5,-473 1137.5,-473 1137.5,-467 1143.5,-461 1149.5,-461 1149.5,-461 1279.5,-461 1279.5,-461 1285.5,-461 1291.5,-467 1291.5,-473 1291.5,-473 1291.5,-532 1291.5,-532 1291.5,-538 1285.5,-544 1279.5,-544\"/>\r\n",
       "<text text-anchor=\"start\" x=\"1146.5\" y=\"-528.8\" font-family=\"Helvetica,sans-Serif\" font-size=\"14.00\">yearly_pay ≤ 81188.0</text>\r\n",
       "<text text-anchor=\"start\" x=\"1177\" y=\"-513.8\" font-family=\"Helvetica,sans-Serif\" font-size=\"14.00\">gini = 0.156</text>\r\n",
       "<text text-anchor=\"start\" x=\"1154.5\" y=\"-498.8\" font-family=\"Helvetica,sans-Serif\" font-size=\"14.00\">samples = 100.0%</text>\r\n",
       "<text text-anchor=\"start\" x=\"1145.5\" y=\"-483.8\" font-family=\"Helvetica,sans-Serif\" font-size=\"14.00\">value = [0.915, 0.085]</text>\r\n",
       "<text text-anchor=\"start\" x=\"1163\" y=\"-468.8\" font-family=\"Helvetica,sans-Serif\" font-size=\"14.00\">class = Certified</text>\r\n",
       "</g>\r\n",
       "<!-- 1 -->\r\n",
       "<g id=\"node2\" class=\"node\"><title>1</title>\r\n",
       "<path fill=\"#e58139\" fill-opacity=\"0.878431\" stroke=\"black\" d=\"M990.5,-425C990.5,-425 860.5,-425 860.5,-425 854.5,-425 848.5,-419 848.5,-413 848.5,-413 848.5,-354 848.5,-354 848.5,-348 854.5,-342 860.5,-342 860.5,-342 990.5,-342 990.5,-342 996.5,-342 1002.5,-348 1002.5,-354 1002.5,-354 1002.5,-413 1002.5,-413 1002.5,-419 996.5,-425 990.5,-425\"/>\r\n",
       "<text text-anchor=\"start\" x=\"857.5\" y=\"-409.8\" font-family=\"Helvetica,sans-Serif\" font-size=\"14.00\">yearly_pay ≤ 16671.4</text>\r\n",
       "<text text-anchor=\"start\" x=\"888\" y=\"-394.8\" font-family=\"Helvetica,sans-Serif\" font-size=\"14.00\">gini = 0.193</text>\r\n",
       "<text text-anchor=\"start\" x=\"869.5\" y=\"-379.8\" font-family=\"Helvetica,sans-Serif\" font-size=\"14.00\">samples = 61.0%</text>\r\n",
       "<text text-anchor=\"start\" x=\"856.5\" y=\"-364.8\" font-family=\"Helvetica,sans-Serif\" font-size=\"14.00\">value = [0.892, 0.108]</text>\r\n",
       "<text text-anchor=\"start\" x=\"874\" y=\"-349.8\" font-family=\"Helvetica,sans-Serif\" font-size=\"14.00\">class = Certified</text>\r\n",
       "</g>\r\n",
       "<!-- 0&#45;&gt;1 -->\r\n",
       "<g id=\"edge1\" class=\"edge\"><title>0&#45;&gt;1</title>\r\n",
       "<path fill=\"none\" stroke=\"black\" d=\"M1137.43,-470.3C1098.81,-454.664 1051.9,-435.673 1012.05,-419.537\"/>\r\n",
       "<polygon fill=\"black\" stroke=\"black\" points=\"1013.19,-416.223 1002.6,-415.715 1010.56,-422.712 1013.19,-416.223\"/>\r\n",
       "<text text-anchor=\"middle\" x=\"1012.36\" y=\"-435.034\" font-family=\"Helvetica,sans-Serif\" font-size=\"14.00\">True</text>\r\n",
       "</g>\r\n",
       "<!-- 16 -->\r\n",
       "<g id=\"node17\" class=\"node\"><title>16</title>\r\n",
       "<path fill=\"#e58139\" fill-opacity=\"0.949020\" stroke=\"black\" d=\"M1669.5,-425C1669.5,-425 1539.5,-425 1539.5,-425 1533.5,-425 1527.5,-419 1527.5,-413 1527.5,-413 1527.5,-354 1527.5,-354 1527.5,-348 1533.5,-342 1539.5,-342 1539.5,-342 1669.5,-342 1669.5,-342 1675.5,-342 1681.5,-348 1681.5,-354 1681.5,-354 1681.5,-413 1681.5,-413 1681.5,-419 1675.5,-425 1669.5,-425\"/>\r\n",
       "<text text-anchor=\"start\" x=\"1566.5\" y=\"-409.8\" font-family=\"Helvetica,sans-Serif\" font-size=\"14.00\">region ≤ 2.5</text>\r\n",
       "<text text-anchor=\"start\" x=\"1567\" y=\"-394.8\" font-family=\"Helvetica,sans-Serif\" font-size=\"14.00\">gini = 0.093</text>\r\n",
       "<text text-anchor=\"start\" x=\"1548.5\" y=\"-379.8\" font-family=\"Helvetica,sans-Serif\" font-size=\"14.00\">samples = 39.0%</text>\r\n",
       "<text text-anchor=\"start\" x=\"1535.5\" y=\"-364.8\" font-family=\"Helvetica,sans-Serif\" font-size=\"14.00\">value = [0.951, 0.049]</text>\r\n",
       "<text text-anchor=\"start\" x=\"1553\" y=\"-349.8\" font-family=\"Helvetica,sans-Serif\" font-size=\"14.00\">class = Certified</text>\r\n",
       "</g>\r\n",
       "<!-- 0&#45;&gt;16 -->\r\n",
       "<g id=\"edge16\" class=\"edge\"><title>0&#45;&gt;16</title>\r\n",
       "<path fill=\"none\" stroke=\"black\" d=\"M1291.55,-478.385C1356.61,-458.866 1449.73,-430.93 1517.47,-410.608\"/>\r\n",
       "<polygon fill=\"black\" stroke=\"black\" points=\"1518.7,-413.893 1527.28,-407.667 1516.69,-407.188 1518.7,-413.893\"/>\r\n",
       "<text text-anchor=\"middle\" x=\"1515.42\" y=\"-425.979\" font-family=\"Helvetica,sans-Serif\" font-size=\"14.00\">False</text>\r\n",
       "</g>\r\n",
       "<!-- 2 -->\r\n",
       "<g id=\"node3\" class=\"node\"><title>2</title>\r\n",
       "<path fill=\"#399de5\" fill-opacity=\"0.400000\" stroke=\"black\" d=\"M530.5,-306C530.5,-306 400.5,-306 400.5,-306 394.5,-306 388.5,-300 388.5,-294 388.5,-294 388.5,-235 388.5,-235 388.5,-229 394.5,-223 400.5,-223 400.5,-223 530.5,-223 530.5,-223 536.5,-223 542.5,-229 542.5,-235 542.5,-235 542.5,-294 542.5,-294 542.5,-300 536.5,-306 530.5,-306\"/>\r\n",
       "<text text-anchor=\"start\" x=\"397.5\" y=\"-290.8\" font-family=\"Helvetica,sans-Serif\" font-size=\"14.00\">yearly_pay ≤ 15548.0</text>\r\n",
       "<text text-anchor=\"start\" x=\"428\" y=\"-275.8\" font-family=\"Helvetica,sans-Serif\" font-size=\"14.00\">gini = 0.469</text>\r\n",
       "<text text-anchor=\"start\" x=\"414\" y=\"-260.8\" font-family=\"Helvetica,sans-Serif\" font-size=\"14.00\">samples = 0.1%</text>\r\n",
       "<text text-anchor=\"start\" x=\"396.5\" y=\"-245.8\" font-family=\"Helvetica,sans-Serif\" font-size=\"14.00\">value = [0.375, 0.625]</text>\r\n",
       "<text text-anchor=\"start\" x=\"418\" y=\"-230.8\" font-family=\"Helvetica,sans-Serif\" font-size=\"14.00\">class = Denied</text>\r\n",
       "</g>\r\n",
       "<!-- 1&#45;&gt;2 -->\r\n",
       "<g id=\"edge2\" class=\"edge\"><title>1&#45;&gt;2</title>\r\n",
       "<path fill=\"none\" stroke=\"black\" d=\"M848.247,-362.851C766.522,-342.064 637.839,-309.334 552.572,-287.647\"/>\r\n",
       "<polygon fill=\"black\" stroke=\"black\" points=\"553.208,-284.197 542.654,-285.124 551.482,-290.981 553.208,-284.197\"/>\r\n",
       "</g>\r\n",
       "<!-- 9 -->\r\n",
       "<g id=\"node10\" class=\"node\"><title>9</title>\r\n",
       "<path fill=\"#e58139\" fill-opacity=\"0.878431\" stroke=\"black\" d=\"M990.5,-306C990.5,-306 860.5,-306 860.5,-306 854.5,-306 848.5,-300 848.5,-294 848.5,-294 848.5,-235 848.5,-235 848.5,-229 854.5,-223 860.5,-223 860.5,-223 990.5,-223 990.5,-223 996.5,-223 1002.5,-229 1002.5,-235 1002.5,-235 1002.5,-294 1002.5,-294 1002.5,-300 996.5,-306 990.5,-306\"/>\r\n",
       "<text text-anchor=\"start\" x=\"857.5\" y=\"-290.8\" font-family=\"Helvetica,sans-Serif\" font-size=\"14.00\">yearly_pay ≤ 35693.0</text>\r\n",
       "<text text-anchor=\"start\" x=\"888\" y=\"-275.8\" font-family=\"Helvetica,sans-Serif\" font-size=\"14.00\">gini = 0.192</text>\r\n",
       "<text text-anchor=\"start\" x=\"869.5\" y=\"-260.8\" font-family=\"Helvetica,sans-Serif\" font-size=\"14.00\">samples = 60.9%</text>\r\n",
       "<text text-anchor=\"start\" x=\"856.5\" y=\"-245.8\" font-family=\"Helvetica,sans-Serif\" font-size=\"14.00\">value = [0.893, 0.107]</text>\r\n",
       "<text text-anchor=\"start\" x=\"874\" y=\"-230.8\" font-family=\"Helvetica,sans-Serif\" font-size=\"14.00\">class = Certified</text>\r\n",
       "</g>\r\n",
       "<!-- 1&#45;&gt;9 -->\r\n",
       "<g id=\"edge9\" class=\"edge\"><title>1&#45;&gt;9</title>\r\n",
       "<path fill=\"none\" stroke=\"black\" d=\"M925.5,-341.907C925.5,-333.649 925.5,-324.864 925.5,-316.302\"/>\r\n",
       "<polygon fill=\"black\" stroke=\"black\" points=\"929,-316.021 925.5,-306.021 922,-316.021 929,-316.021\"/>\r\n",
       "</g>\r\n",
       "<!-- 3 -->\r\n",
       "<g id=\"node4\" class=\"node\"><title>3</title>\r\n",
       "<path fill=\"#e58139\" fill-opacity=\"0.498039\" stroke=\"black\" d=\"M311.5,-187C311.5,-187 87.5,-187 87.5,-187 81.5,-187 75.5,-181 75.5,-175 75.5,-175 75.5,-116 75.5,-116 75.5,-110 81.5,-104 87.5,-104 87.5,-104 311.5,-104 311.5,-104 317.5,-104 323.5,-110 323.5,-116 323.5,-116 323.5,-175 323.5,-175 323.5,-181 317.5,-187 311.5,-187\"/>\r\n",
       "<text text-anchor=\"start\" x=\"83.5\" y=\"-171.8\" font-family=\"Helvetica,sans-Serif\" font-size=\"14.00\">foreign_worker_info_education ≤ 2.0</text>\r\n",
       "<text text-anchor=\"start\" x=\"162\" y=\"-156.8\" font-family=\"Helvetica,sans-Serif\" font-size=\"14.00\">gini = 0.444</text>\r\n",
       "<text text-anchor=\"start\" x=\"148\" y=\"-141.8\" font-family=\"Helvetica,sans-Serif\" font-size=\"14.00\">samples = 0.0%</text>\r\n",
       "<text text-anchor=\"start\" x=\"130.5\" y=\"-126.8\" font-family=\"Helvetica,sans-Serif\" font-size=\"14.00\">value = [0.667, 0.333]</text>\r\n",
       "<text text-anchor=\"start\" x=\"148\" y=\"-111.8\" font-family=\"Helvetica,sans-Serif\" font-size=\"14.00\">class = Certified</text>\r\n",
       "</g>\r\n",
       "<!-- 2&#45;&gt;3 -->\r\n",
       "<g id=\"edge3\" class=\"edge\"><title>2&#45;&gt;3</title>\r\n",
       "<path fill=\"none\" stroke=\"black\" d=\"M388.204,-229.502C360.937,-217.508 329.857,-203.837 300.898,-191.1\"/>\r\n",
       "<polygon fill=\"black\" stroke=\"black\" points=\"302.141,-187.823 291.578,-187.001 299.323,-194.231 302.141,-187.823\"/>\r\n",
       "</g>\r\n",
       "<!-- 6 -->\r\n",
       "<g id=\"node7\" class=\"node\"><title>6</title>\r\n",
       "<path fill=\"#399de5\" fill-opacity=\"0.556863\" stroke=\"black\" d=\"M530.5,-187C530.5,-187 400.5,-187 400.5,-187 394.5,-187 388.5,-181 388.5,-175 388.5,-175 388.5,-116 388.5,-116 388.5,-110 394.5,-104 400.5,-104 400.5,-104 530.5,-104 530.5,-104 536.5,-104 542.5,-110 542.5,-116 542.5,-116 542.5,-175 542.5,-175 542.5,-181 536.5,-187 530.5,-187\"/>\r\n",
       "<text text-anchor=\"start\" x=\"397.5\" y=\"-171.8\" font-family=\"Helvetica,sans-Serif\" font-size=\"14.00\">yearly_pay ≤ 16650.4</text>\r\n",
       "<text text-anchor=\"start\" x=\"428\" y=\"-156.8\" font-family=\"Helvetica,sans-Serif\" font-size=\"14.00\">gini = 0.426</text>\r\n",
       "<text text-anchor=\"start\" x=\"414\" y=\"-141.8\" font-family=\"Helvetica,sans-Serif\" font-size=\"14.00\">samples = 0.1%</text>\r\n",
       "<text text-anchor=\"start\" x=\"396.5\" y=\"-126.8\" font-family=\"Helvetica,sans-Serif\" font-size=\"14.00\">value = [0.308, 0.692]</text>\r\n",
       "<text text-anchor=\"start\" x=\"418\" y=\"-111.8\" font-family=\"Helvetica,sans-Serif\" font-size=\"14.00\">class = Denied</text>\r\n",
       "</g>\r\n",
       "<!-- 2&#45;&gt;6 -->\r\n",
       "<g id=\"edge6\" class=\"edge\"><title>2&#45;&gt;6</title>\r\n",
       "<path fill=\"none\" stroke=\"black\" d=\"M465.5,-222.907C465.5,-214.649 465.5,-205.864 465.5,-197.302\"/>\r\n",
       "<polygon fill=\"black\" stroke=\"black\" points=\"469,-197.021 465.5,-187.021 462,-197.021 469,-197.021\"/>\r\n",
       "</g>\r\n",
       "<!-- 4 -->\r\n",
       "<g id=\"node5\" class=\"node\"><title>4</title>\r\n",
       "<path fill=\"none\" stroke=\"black\" d=\"M109,-68C109,-68 12,-68 12,-68 6,-68 0,-62 0,-56 0,-56 0,-12 0,-12 0,-6 6,-0 12,-0 12,-0 109,-0 109,-0 115,-0 121,-6 121,-12 121,-12 121,-56 121,-56 121,-62 115,-68 109,-68\"/>\r\n",
       "<text text-anchor=\"start\" x=\"31.5\" y=\"-52.8\" font-family=\"Helvetica,sans-Serif\" font-size=\"14.00\">gini = 0.5</text>\r\n",
       "<text text-anchor=\"start\" x=\"9\" y=\"-37.8\" font-family=\"Helvetica,sans-Serif\" font-size=\"14.00\">samples = 0.0%</text>\r\n",
       "<text text-anchor=\"start\" x=\"8\" y=\"-22.8\" font-family=\"Helvetica,sans-Serif\" font-size=\"14.00\">value = [0.5, 0.5]</text>\r\n",
       "<text text-anchor=\"start\" x=\"9\" y=\"-7.8\" font-family=\"Helvetica,sans-Serif\" font-size=\"14.00\">class = Certified</text>\r\n",
       "</g>\r\n",
       "<!-- 3&#45;&gt;4 -->\r\n",
       "<g id=\"edge4\" class=\"edge\"><title>3&#45;&gt;4</title>\r\n",
       "<path fill=\"none\" stroke=\"black\" d=\"M147.742,-103.726C135.7,-94.2406 122.898,-84.1551 110.916,-74.7159\"/>\r\n",
       "<polygon fill=\"black\" stroke=\"black\" points=\"112.792,-71.7385 102.771,-68.2996 108.46,-77.2372 112.792,-71.7385\"/>\r\n",
       "</g>\r\n",
       "<!-- 5 -->\r\n",
       "<g id=\"node6\" class=\"node\"><title>5</title>\r\n",
       "<path fill=\"#e58139\" stroke=\"black\" d=\"M248,-68C248,-68 151,-68 151,-68 145,-68 139,-62 139,-56 139,-56 139,-12 139,-12 139,-6 145,-0 151,-0 151,-0 248,-0 248,-0 254,-0 260,-6 260,-12 260,-12 260,-56 260,-56 260,-62 254,-68 248,-68\"/>\r\n",
       "<text text-anchor=\"start\" x=\"170.5\" y=\"-52.8\" font-family=\"Helvetica,sans-Serif\" font-size=\"14.00\">gini = 0.0</text>\r\n",
       "<text text-anchor=\"start\" x=\"148\" y=\"-37.8\" font-family=\"Helvetica,sans-Serif\" font-size=\"14.00\">samples = 0.0%</text>\r\n",
       "<text text-anchor=\"start\" x=\"147\" y=\"-22.8\" font-family=\"Helvetica,sans-Serif\" font-size=\"14.00\">value = [1.0, 0.0]</text>\r\n",
       "<text text-anchor=\"start\" x=\"148\" y=\"-7.8\" font-family=\"Helvetica,sans-Serif\" font-size=\"14.00\">class = Certified</text>\r\n",
       "</g>\r\n",
       "<!-- 3&#45;&gt;5 -->\r\n",
       "<g id=\"edge5\" class=\"edge\"><title>3&#45;&gt;5</title>\r\n",
       "<path fill=\"none\" stroke=\"black\" d=\"M199.5,-103.726C199.5,-95.5175 199.5,-86.8595 199.5,-78.56\"/>\r\n",
       "<polygon fill=\"black\" stroke=\"black\" points=\"203,-78.2996 199.5,-68.2996 196,-78.2996 203,-78.2996\"/>\r\n",
       "</g>\r\n",
       "<!-- 7 -->\r\n",
       "<g id=\"node8\" class=\"node\"><title>7</title>\r\n",
       "<path fill=\"#399de5\" fill-opacity=\"0.498039\" stroke=\"black\" d=\"M420.5,-68C420.5,-68 290.5,-68 290.5,-68 284.5,-68 278.5,-62 278.5,-56 278.5,-56 278.5,-12 278.5,-12 278.5,-6 284.5,-0 290.5,-0 290.5,-0 420.5,-0 420.5,-0 426.5,-0 432.5,-6 432.5,-12 432.5,-12 432.5,-56 432.5,-56 432.5,-62 426.5,-68 420.5,-68\"/>\r\n",
       "<text text-anchor=\"start\" x=\"318\" y=\"-52.8\" font-family=\"Helvetica,sans-Serif\" font-size=\"14.00\">gini = 0.444</text>\r\n",
       "<text text-anchor=\"start\" x=\"304\" y=\"-37.8\" font-family=\"Helvetica,sans-Serif\" font-size=\"14.00\">samples = 0.1%</text>\r\n",
       "<text text-anchor=\"start\" x=\"286.5\" y=\"-22.8\" font-family=\"Helvetica,sans-Serif\" font-size=\"14.00\">value = [0.333, 0.667]</text>\r\n",
       "<text text-anchor=\"start\" x=\"308\" y=\"-7.8\" font-family=\"Helvetica,sans-Serif\" font-size=\"14.00\">class = Denied</text>\r\n",
       "</g>\r\n",
       "<!-- 6&#45;&gt;7 -->\r\n",
       "<g id=\"edge7\" class=\"edge\"><title>6&#45;&gt;7</title>\r\n",
       "<path fill=\"none\" stroke=\"black\" d=\"M424.54,-103.726C415.286,-94.5142 405.464,-84.7364 396.219,-75.5343\"/>\r\n",
       "<polygon fill=\"black\" stroke=\"black\" points=\"398.508,-72.8741 388.952,-68.2996 393.57,-77.8351 398.508,-72.8741\"/>\r\n",
       "</g>\r\n",
       "<!-- 8 -->\r\n",
       "<g id=\"node9\" class=\"node\"><title>8</title>\r\n",
       "<path fill=\"#399de5\" stroke=\"black\" d=\"M560,-68C560,-68 463,-68 463,-68 457,-68 451,-62 451,-56 451,-56 451,-12 451,-12 451,-6 457,-0 463,-0 463,-0 560,-0 560,-0 566,-0 572,-6 572,-12 572,-12 572,-56 572,-56 572,-62 566,-68 560,-68\"/>\r\n",
       "<text text-anchor=\"start\" x=\"482.5\" y=\"-52.8\" font-family=\"Helvetica,sans-Serif\" font-size=\"14.00\">gini = 0.0</text>\r\n",
       "<text text-anchor=\"start\" x=\"460\" y=\"-37.8\" font-family=\"Helvetica,sans-Serif\" font-size=\"14.00\">samples = 0.0%</text>\r\n",
       "<text text-anchor=\"start\" x=\"459\" y=\"-22.8\" font-family=\"Helvetica,sans-Serif\" font-size=\"14.00\">value = [0.0, 1.0]</text>\r\n",
       "<text text-anchor=\"start\" x=\"464\" y=\"-7.8\" font-family=\"Helvetica,sans-Serif\" font-size=\"14.00\">class = Denied</text>\r\n",
       "</g>\r\n",
       "<!-- 6&#45;&gt;8 -->\r\n",
       "<g id=\"edge8\" class=\"edge\"><title>6&#45;&gt;8</title>\r\n",
       "<path fill=\"none\" stroke=\"black\" d=\"M482.629,-103.726C486.192,-95.2439 489.957,-86.2819 493.549,-77.7312\"/>\r\n",
       "<polygon fill=\"black\" stroke=\"black\" points=\"496.865,-78.8747 497.511,-68.2996 490.411,-76.1635 496.865,-78.8747\"/>\r\n",
       "</g>\r\n",
       "<!-- 10 -->\r\n",
       "<g id=\"node11\" class=\"node\"><title>10</title>\r\n",
       "<path fill=\"#e58139\" fill-opacity=\"0.843137\" stroke=\"black\" d=\"M904.5,-187C904.5,-187 680.5,-187 680.5,-187 674.5,-187 668.5,-181 668.5,-175 668.5,-175 668.5,-116 668.5,-116 668.5,-110 674.5,-104 680.5,-104 680.5,-104 904.5,-104 904.5,-104 910.5,-104 916.5,-110 916.5,-116 916.5,-116 916.5,-175 916.5,-175 916.5,-181 910.5,-187 904.5,-187\"/>\r\n",
       "<text text-anchor=\"start\" x=\"676.5\" y=\"-171.8\" font-family=\"Helvetica,sans-Serif\" font-size=\"14.00\">foreign_worker_info_education ≤ 6.5</text>\r\n",
       "<text text-anchor=\"start\" x=\"755\" y=\"-156.8\" font-family=\"Helvetica,sans-Serif\" font-size=\"14.00\">gini = 0.232</text>\r\n",
       "<text text-anchor=\"start\" x=\"736.5\" y=\"-141.8\" font-family=\"Helvetica,sans-Serif\" font-size=\"14.00\">samples = 16.7%</text>\r\n",
       "<text text-anchor=\"start\" x=\"723.5\" y=\"-126.8\" font-family=\"Helvetica,sans-Serif\" font-size=\"14.00\">value = [0.866, 0.134]</text>\r\n",
       "<text text-anchor=\"start\" x=\"741\" y=\"-111.8\" font-family=\"Helvetica,sans-Serif\" font-size=\"14.00\">class = Certified</text>\r\n",
       "</g>\r\n",
       "<!-- 9&#45;&gt;10 -->\r\n",
       "<g id=\"edge10\" class=\"edge\"><title>9&#45;&gt;10</title>\r\n",
       "<path fill=\"none\" stroke=\"black\" d=\"M879.356,-222.907C868.628,-213.469 857.116,-203.343 846.097,-193.649\"/>\r\n",
       "<polygon fill=\"black\" stroke=\"black\" points=\"848.382,-190.998 838.562,-187.021 843.759,-196.254 848.382,-190.998\"/>\r\n",
       "</g>\r\n",
       "<!-- 13 -->\r\n",
       "<g id=\"node14\" class=\"node\"><title>13</title>\r\n",
       "<path fill=\"#e58139\" fill-opacity=\"0.894118\" stroke=\"black\" d=\"M1170.5,-187C1170.5,-187 946.5,-187 946.5,-187 940.5,-187 934.5,-181 934.5,-175 934.5,-175 934.5,-116 934.5,-116 934.5,-110 940.5,-104 946.5,-104 946.5,-104 1170.5,-104 1170.5,-104 1176.5,-104 1182.5,-110 1182.5,-116 1182.5,-116 1182.5,-175 1182.5,-175 1182.5,-181 1176.5,-187 1170.5,-187\"/>\r\n",
       "<text text-anchor=\"start\" x=\"942.5\" y=\"-171.8\" font-family=\"Helvetica,sans-Serif\" font-size=\"14.00\">foreign_worker_info_education ≤ 2.5</text>\r\n",
       "<text text-anchor=\"start\" x=\"1021\" y=\"-156.8\" font-family=\"Helvetica,sans-Serif\" font-size=\"14.00\">gini = 0.176</text>\r\n",
       "<text text-anchor=\"start\" x=\"1002.5\" y=\"-141.8\" font-family=\"Helvetica,sans-Serif\" font-size=\"14.00\">samples = 44.2%</text>\r\n",
       "<text text-anchor=\"start\" x=\"989.5\" y=\"-126.8\" font-family=\"Helvetica,sans-Serif\" font-size=\"14.00\">value = [0.903, 0.097]</text>\r\n",
       "<text text-anchor=\"start\" x=\"1007\" y=\"-111.8\" font-family=\"Helvetica,sans-Serif\" font-size=\"14.00\">class = Certified</text>\r\n",
       "</g>\r\n",
       "<!-- 9&#45;&gt;13 -->\r\n",
       "<g id=\"edge13\" class=\"edge\"><title>9&#45;&gt;13</title>\r\n",
       "<path fill=\"none\" stroke=\"black\" d=\"M971.644,-222.907C982.372,-213.469 993.884,-203.343 1004.9,-193.649\"/>\r\n",
       "<polygon fill=\"black\" stroke=\"black\" points=\"1007.24,-196.254 1012.44,-187.021 1002.62,-190.998 1007.24,-196.254\"/>\r\n",
       "</g>\r\n",
       "<!-- 11 -->\r\n",
       "<g id=\"node12\" class=\"node\"><title>11</title>\r\n",
       "<path fill=\"#e58139\" fill-opacity=\"0.858824\" stroke=\"black\" d=\"M732.5,-68C732.5,-68 602.5,-68 602.5,-68 596.5,-68 590.5,-62 590.5,-56 590.5,-56 590.5,-12 590.5,-12 590.5,-6 596.5,-0 602.5,-0 602.5,-0 732.5,-0 732.5,-0 738.5,-0 744.5,-6 744.5,-12 744.5,-12 744.5,-56 744.5,-56 744.5,-62 738.5,-68 732.5,-68\"/>\r\n",
       "<text text-anchor=\"start\" x=\"630\" y=\"-52.8\" font-family=\"Helvetica,sans-Serif\" font-size=\"14.00\">gini = 0.216</text>\r\n",
       "<text text-anchor=\"start\" x=\"611.5\" y=\"-37.8\" font-family=\"Helvetica,sans-Serif\" font-size=\"14.00\">samples = 15.3%</text>\r\n",
       "<text text-anchor=\"start\" x=\"598.5\" y=\"-22.8\" font-family=\"Helvetica,sans-Serif\" font-size=\"14.00\">value = [0.877, 0.123]</text>\r\n",
       "<text text-anchor=\"start\" x=\"616\" y=\"-7.8\" font-family=\"Helvetica,sans-Serif\" font-size=\"14.00\">class = Certified</text>\r\n",
       "</g>\r\n",
       "<!-- 10&#45;&gt;11 -->\r\n",
       "<g id=\"edge11\" class=\"edge\"><title>10&#45;&gt;11</title>\r\n",
       "<path fill=\"none\" stroke=\"black\" d=\"M745.955,-103.726C735.23,-94.3318 723.834,-84.349 713.149,-74.9883\"/>\r\n",
       "<polygon fill=\"black\" stroke=\"black\" points=\"715.342,-72.2562 705.513,-68.2996 710.729,-77.5217 715.342,-72.2562\"/>\r\n",
       "</g>\r\n",
       "<!-- 12 -->\r\n",
       "<g id=\"node13\" class=\"node\"><title>12</title>\r\n",
       "<path fill=\"#e58139\" fill-opacity=\"0.658824\" stroke=\"black\" d=\"M904.5,-68C904.5,-68 774.5,-68 774.5,-68 768.5,-68 762.5,-62 762.5,-56 762.5,-56 762.5,-12 762.5,-12 762.5,-6 768.5,-0 774.5,-0 774.5,-0 904.5,-0 904.5,-0 910.5,-0 916.5,-6 916.5,-12 916.5,-12 916.5,-56 916.5,-56 916.5,-62 910.5,-68 904.5,-68\"/>\r\n",
       "<text text-anchor=\"start\" x=\"802\" y=\"-52.8\" font-family=\"Helvetica,sans-Serif\" font-size=\"14.00\">gini = 0.379</text>\r\n",
       "<text text-anchor=\"start\" x=\"788\" y=\"-37.8\" font-family=\"Helvetica,sans-Serif\" font-size=\"14.00\">samples = 1.4%</text>\r\n",
       "<text text-anchor=\"start\" x=\"770.5\" y=\"-22.8\" font-family=\"Helvetica,sans-Serif\" font-size=\"14.00\">value = [0.746, 0.254]</text>\r\n",
       "<text text-anchor=\"start\" x=\"788\" y=\"-7.8\" font-family=\"Helvetica,sans-Serif\" font-size=\"14.00\">class = Certified</text>\r\n",
       "</g>\r\n",
       "<!-- 10&#45;&gt;12 -->\r\n",
       "<g id=\"edge12\" class=\"edge\"><title>10&#45;&gt;12</title>\r\n",
       "<path fill=\"none\" stroke=\"black\" d=\"M810.001,-103.726C813.642,-95.2439 817.489,-86.2819 821.159,-77.7312\"/>\r\n",
       "<polygon fill=\"black\" stroke=\"black\" points=\"824.479,-78.8694 825.207,-68.2996 818.046,-76.1084 824.479,-78.8694\"/>\r\n",
       "</g>\r\n",
       "<!-- 14 -->\r\n",
       "<g id=\"node15\" class=\"node\"><title>14</title>\r\n",
       "<path fill=\"#e58139\" fill-opacity=\"0.917647\" stroke=\"black\" d=\"M1076.5,-68C1076.5,-68 946.5,-68 946.5,-68 940.5,-68 934.5,-62 934.5,-56 934.5,-56 934.5,-12 934.5,-12 934.5,-6 940.5,-0 946.5,-0 946.5,-0 1076.5,-0 1076.5,-0 1082.5,-0 1088.5,-6 1088.5,-12 1088.5,-12 1088.5,-56 1088.5,-56 1088.5,-62 1082.5,-68 1076.5,-68\"/>\r\n",
       "<text text-anchor=\"start\" x=\"974\" y=\"-52.8\" font-family=\"Helvetica,sans-Serif\" font-size=\"14.00\">gini = 0.142</text>\r\n",
       "<text text-anchor=\"start\" x=\"955.5\" y=\"-37.8\" font-family=\"Helvetica,sans-Serif\" font-size=\"14.00\">samples = 13.5%</text>\r\n",
       "<text text-anchor=\"start\" x=\"942.5\" y=\"-22.8\" font-family=\"Helvetica,sans-Serif\" font-size=\"14.00\">value = [0.923, 0.077]</text>\r\n",
       "<text text-anchor=\"start\" x=\"960\" y=\"-7.8\" font-family=\"Helvetica,sans-Serif\" font-size=\"14.00\">class = Certified</text>\r\n",
       "</g>\r\n",
       "<!-- 13&#45;&gt;14 -->\r\n",
       "<g id=\"edge14\" class=\"edge\"><title>13&#45;&gt;14</title>\r\n",
       "<path fill=\"none\" stroke=\"black\" d=\"M1041,-103.726C1037.36,-95.2439 1033.51,-86.2819 1029.84,-77.7312\"/>\r\n",
       "<polygon fill=\"black\" stroke=\"black\" points=\"1032.95,-76.1084 1025.79,-68.2996 1026.52,-78.8694 1032.95,-76.1084\"/>\r\n",
       "</g>\r\n",
       "<!-- 15 -->\r\n",
       "<g id=\"node16\" class=\"node\"><title>15</title>\r\n",
       "<path fill=\"#e58139\" fill-opacity=\"0.882353\" stroke=\"black\" d=\"M1248.5,-68C1248.5,-68 1118.5,-68 1118.5,-68 1112.5,-68 1106.5,-62 1106.5,-56 1106.5,-56 1106.5,-12 1106.5,-12 1106.5,-6 1112.5,-0 1118.5,-0 1118.5,-0 1248.5,-0 1248.5,-0 1254.5,-0 1260.5,-6 1260.5,-12 1260.5,-12 1260.5,-56 1260.5,-56 1260.5,-62 1254.5,-68 1248.5,-68\"/>\r\n",
       "<text text-anchor=\"start\" x=\"1150\" y=\"-52.8\" font-family=\"Helvetica,sans-Serif\" font-size=\"14.00\">gini = 0.19</text>\r\n",
       "<text text-anchor=\"start\" x=\"1127.5\" y=\"-37.8\" font-family=\"Helvetica,sans-Serif\" font-size=\"14.00\">samples = 30.7%</text>\r\n",
       "<text text-anchor=\"start\" x=\"1114.5\" y=\"-22.8\" font-family=\"Helvetica,sans-Serif\" font-size=\"14.00\">value = [0.894, 0.106]</text>\r\n",
       "<text text-anchor=\"start\" x=\"1132\" y=\"-7.8\" font-family=\"Helvetica,sans-Serif\" font-size=\"14.00\">class = Certified</text>\r\n",
       "</g>\r\n",
       "<!-- 13&#45;&gt;15 -->\r\n",
       "<g id=\"edge15\" class=\"edge\"><title>13&#45;&gt;15</title>\r\n",
       "<path fill=\"none\" stroke=\"black\" d=\"M1105.05,-103.726C1115.77,-94.3318 1127.17,-84.349 1137.85,-74.9883\"/>\r\n",
       "<polygon fill=\"black\" stroke=\"black\" points=\"1140.27,-77.5217 1145.49,-68.2996 1135.66,-72.2562 1140.27,-77.5217\"/>\r\n",
       "</g>\r\n",
       "<!-- 17 -->\r\n",
       "<g id=\"node18\" class=\"node\"><title>17</title>\r\n",
       "<path fill=\"#e58139\" fill-opacity=\"0.913725\" stroke=\"black\" d=\"M1669.5,-306C1669.5,-306 1539.5,-306 1539.5,-306 1533.5,-306 1527.5,-300 1527.5,-294 1527.5,-294 1527.5,-235 1527.5,-235 1527.5,-229 1533.5,-223 1539.5,-223 1539.5,-223 1669.5,-223 1669.5,-223 1675.5,-223 1681.5,-229 1681.5,-235 1681.5,-235 1681.5,-294 1681.5,-294 1681.5,-300 1675.5,-306 1669.5,-306\"/>\r\n",
       "<text text-anchor=\"start\" x=\"1536.5\" y=\"-290.8\" font-family=\"Helvetica,sans-Serif\" font-size=\"14.00\">yearly_pay ≤ 96855.0</text>\r\n",
       "<text text-anchor=\"start\" x=\"1567\" y=\"-275.8\" font-family=\"Helvetica,sans-Serif\" font-size=\"14.00\">gini = 0.143</text>\r\n",
       "<text text-anchor=\"start\" x=\"1548.5\" y=\"-260.8\" font-family=\"Helvetica,sans-Serif\" font-size=\"14.00\">samples = 13.8%</text>\r\n",
       "<text text-anchor=\"start\" x=\"1535.5\" y=\"-245.8\" font-family=\"Helvetica,sans-Serif\" font-size=\"14.00\">value = [0.922, 0.078]</text>\r\n",
       "<text text-anchor=\"start\" x=\"1553\" y=\"-230.8\" font-family=\"Helvetica,sans-Serif\" font-size=\"14.00\">class = Certified</text>\r\n",
       "</g>\r\n",
       "<!-- 16&#45;&gt;17 -->\r\n",
       "<g id=\"edge17\" class=\"edge\"><title>16&#45;&gt;17</title>\r\n",
       "<path fill=\"none\" stroke=\"black\" d=\"M1604.5,-341.907C1604.5,-333.649 1604.5,-324.864 1604.5,-316.302\"/>\r\n",
       "<polygon fill=\"black\" stroke=\"black\" points=\"1608,-316.021 1604.5,-306.021 1601,-316.021 1608,-316.021\"/>\r\n",
       "</g>\r\n",
       "<!-- 24 -->\r\n",
       "<g id=\"node25\" class=\"node\"><title>24</title>\r\n",
       "<path fill=\"#e58139\" fill-opacity=\"0.964706\" stroke=\"black\" d=\"M2088,-306C2088,-306 1935,-306 1935,-306 1929,-306 1923,-300 1923,-294 1923,-294 1923,-235 1923,-235 1923,-229 1929,-223 1935,-223 1935,-223 2088,-223 2088,-223 2094,-223 2100,-229 2100,-235 2100,-235 2100,-294 2100,-294 2100,-300 2094,-306 2088,-306\"/>\r\n",
       "<text text-anchor=\"start\" x=\"1931\" y=\"-290.8\" font-family=\"Helvetica,sans-Serif\" font-size=\"14.00\">yearly_pay ≤ 64713088.0</text>\r\n",
       "<text text-anchor=\"start\" x=\"1974\" y=\"-275.8\" font-family=\"Helvetica,sans-Serif\" font-size=\"14.00\">gini = 0.064</text>\r\n",
       "<text text-anchor=\"start\" x=\"1955.5\" y=\"-260.8\" font-family=\"Helvetica,sans-Serif\" font-size=\"14.00\">samples = 25.1%</text>\r\n",
       "<text text-anchor=\"start\" x=\"1942.5\" y=\"-245.8\" font-family=\"Helvetica,sans-Serif\" font-size=\"14.00\">value = [0.967, 0.033]</text>\r\n",
       "<text text-anchor=\"start\" x=\"1960\" y=\"-230.8\" font-family=\"Helvetica,sans-Serif\" font-size=\"14.00\">class = Certified</text>\r\n",
       "</g>\r\n",
       "<!-- 16&#45;&gt;24 -->\r\n",
       "<g id=\"edge24\" class=\"edge\"><title>16&#45;&gt;24</title>\r\n",
       "<path fill=\"none\" stroke=\"black\" d=\"M1681.53,-360.356C1747.12,-341.5 1841.75,-314.297 1912.87,-293.852\"/>\r\n",
       "<polygon fill=\"black\" stroke=\"black\" points=\"1914.1,-297.141 1922.75,-291.014 1912.17,-290.413 1914.1,-297.141\"/>\r\n",
       "</g>\r\n",
       "<!-- 18 -->\r\n",
       "<g id=\"node19\" class=\"node\"><title>18</title>\r\n",
       "<path fill=\"#e58139\" fill-opacity=\"0.894118\" stroke=\"black\" d=\"M1583.5,-187C1583.5,-187 1359.5,-187 1359.5,-187 1353.5,-187 1347.5,-181 1347.5,-175 1347.5,-175 1347.5,-116 1347.5,-116 1347.5,-110 1353.5,-104 1359.5,-104 1359.5,-104 1583.5,-104 1583.5,-104 1589.5,-104 1595.5,-110 1595.5,-116 1595.5,-116 1595.5,-175 1595.5,-175 1595.5,-181 1589.5,-187 1583.5,-187\"/>\r\n",
       "<text text-anchor=\"start\" x=\"1355.5\" y=\"-171.8\" font-family=\"Helvetica,sans-Serif\" font-size=\"14.00\">foreign_worker_info_education ≤ 6.5</text>\r\n",
       "<text text-anchor=\"start\" x=\"1434\" y=\"-156.8\" font-family=\"Helvetica,sans-Serif\" font-size=\"14.00\">gini = 0.173</text>\r\n",
       "<text text-anchor=\"start\" x=\"1420\" y=\"-141.8\" font-family=\"Helvetica,sans-Serif\" font-size=\"14.00\">samples = 8.5%</text>\r\n",
       "<text text-anchor=\"start\" x=\"1402.5\" y=\"-126.8\" font-family=\"Helvetica,sans-Serif\" font-size=\"14.00\">value = [0.904, 0.096]</text>\r\n",
       "<text text-anchor=\"start\" x=\"1420\" y=\"-111.8\" font-family=\"Helvetica,sans-Serif\" font-size=\"14.00\">class = Certified</text>\r\n",
       "</g>\r\n",
       "<!-- 17&#45;&gt;18 -->\r\n",
       "<g id=\"edge18\" class=\"edge\"><title>17&#45;&gt;18</title>\r\n",
       "<path fill=\"none\" stroke=\"black\" d=\"M1558.36,-222.907C1547.63,-213.469 1536.12,-203.343 1525.1,-193.649\"/>\r\n",
       "<polygon fill=\"black\" stroke=\"black\" points=\"1527.38,-190.998 1517.56,-187.021 1522.76,-196.254 1527.38,-190.998\"/>\r\n",
       "</g>\r\n",
       "<!-- 21 -->\r\n",
       "<g id=\"node22\" class=\"node\"><title>21</title>\r\n",
       "<path fill=\"#e58139\" fill-opacity=\"0.949020\" stroke=\"black\" d=\"M1849.5,-187C1849.5,-187 1625.5,-187 1625.5,-187 1619.5,-187 1613.5,-181 1613.5,-175 1613.5,-175 1613.5,-116 1613.5,-116 1613.5,-110 1619.5,-104 1625.5,-104 1625.5,-104 1849.5,-104 1849.5,-104 1855.5,-104 1861.5,-110 1861.5,-116 1861.5,-116 1861.5,-175 1861.5,-175 1861.5,-181 1855.5,-187 1849.5,-187\"/>\r\n",
       "<text text-anchor=\"start\" x=\"1621.5\" y=\"-171.8\" font-family=\"Helvetica,sans-Serif\" font-size=\"14.00\">foreign_worker_info_education ≤ 0.5</text>\r\n",
       "<text text-anchor=\"start\" x=\"1700\" y=\"-156.8\" font-family=\"Helvetica,sans-Serif\" font-size=\"14.00\">gini = 0.094</text>\r\n",
       "<text text-anchor=\"start\" x=\"1686\" y=\"-141.8\" font-family=\"Helvetica,sans-Serif\" font-size=\"14.00\">samples = 5.3%</text>\r\n",
       "<text text-anchor=\"start\" x=\"1668.5\" y=\"-126.8\" font-family=\"Helvetica,sans-Serif\" font-size=\"14.00\">value = [0.951, 0.049]</text>\r\n",
       "<text text-anchor=\"start\" x=\"1686\" y=\"-111.8\" font-family=\"Helvetica,sans-Serif\" font-size=\"14.00\">class = Certified</text>\r\n",
       "</g>\r\n",
       "<!-- 17&#45;&gt;21 -->\r\n",
       "<g id=\"edge21\" class=\"edge\"><title>17&#45;&gt;21</title>\r\n",
       "<path fill=\"none\" stroke=\"black\" d=\"M1650.64,-222.907C1661.37,-213.469 1672.88,-203.343 1683.9,-193.649\"/>\r\n",
       "<polygon fill=\"black\" stroke=\"black\" points=\"1686.24,-196.254 1691.44,-187.021 1681.62,-190.998 1686.24,-196.254\"/>\r\n",
       "</g>\r\n",
       "<!-- 19 -->\r\n",
       "<g id=\"node20\" class=\"node\"><title>19</title>\r\n",
       "<path fill=\"#e58139\" fill-opacity=\"0.905882\" stroke=\"black\" d=\"M1420.5,-68C1420.5,-68 1290.5,-68 1290.5,-68 1284.5,-68 1278.5,-62 1278.5,-56 1278.5,-56 1278.5,-12 1278.5,-12 1278.5,-6 1284.5,-0 1290.5,-0 1290.5,-0 1420.5,-0 1420.5,-0 1426.5,-0 1432.5,-6 1432.5,-12 1432.5,-12 1432.5,-56 1432.5,-56 1432.5,-62 1426.5,-68 1420.5,-68\"/>\r\n",
       "<text text-anchor=\"start\" x=\"1322\" y=\"-52.8\" font-family=\"Helvetica,sans-Serif\" font-size=\"14.00\">gini = 0.16</text>\r\n",
       "<text text-anchor=\"start\" x=\"1304\" y=\"-37.8\" font-family=\"Helvetica,sans-Serif\" font-size=\"14.00\">samples = 7.0%</text>\r\n",
       "<text text-anchor=\"start\" x=\"1286.5\" y=\"-22.8\" font-family=\"Helvetica,sans-Serif\" font-size=\"14.00\">value = [0.912, 0.088]</text>\r\n",
       "<text text-anchor=\"start\" x=\"1304\" y=\"-7.8\" font-family=\"Helvetica,sans-Serif\" font-size=\"14.00\">class = Certified</text>\r\n",
       "</g>\r\n",
       "<!-- 18&#45;&gt;19 -->\r\n",
       "<g id=\"edge19\" class=\"edge\"><title>18&#45;&gt;19</title>\r\n",
       "<path fill=\"none\" stroke=\"black\" d=\"M1428.31,-103.726C1418.45,-94.423 1407.98,-84.5428 1398.15,-75.2612\"/>\r\n",
       "<polygon fill=\"black\" stroke=\"black\" points=\"1400.45,-72.6189 1390.78,-68.2996 1395.65,-77.7092 1400.45,-72.6189\"/>\r\n",
       "</g>\r\n",
       "<!-- 20 -->\r\n",
       "<g id=\"node21\" class=\"node\"><title>20</title>\r\n",
       "<path fill=\"#e58139\" fill-opacity=\"0.843137\" stroke=\"black\" d=\"M1592.5,-68C1592.5,-68 1462.5,-68 1462.5,-68 1456.5,-68 1450.5,-62 1450.5,-56 1450.5,-56 1450.5,-12 1450.5,-12 1450.5,-6 1456.5,-0 1462.5,-0 1462.5,-0 1592.5,-0 1592.5,-0 1598.5,-0 1604.5,-6 1604.5,-12 1604.5,-12 1604.5,-56 1604.5,-56 1604.5,-62 1598.5,-68 1592.5,-68\"/>\r\n",
       "<text text-anchor=\"start\" x=\"1490\" y=\"-52.8\" font-family=\"Helvetica,sans-Serif\" font-size=\"14.00\">gini = 0.233</text>\r\n",
       "<text text-anchor=\"start\" x=\"1476\" y=\"-37.8\" font-family=\"Helvetica,sans-Serif\" font-size=\"14.00\">samples = 1.5%</text>\r\n",
       "<text text-anchor=\"start\" x=\"1458.5\" y=\"-22.8\" font-family=\"Helvetica,sans-Serif\" font-size=\"14.00\">value = [0.865, 0.135]</text>\r\n",
       "<text text-anchor=\"start\" x=\"1476\" y=\"-7.8\" font-family=\"Helvetica,sans-Serif\" font-size=\"14.00\">class = Certified</text>\r\n",
       "</g>\r\n",
       "<!-- 18&#45;&gt;20 -->\r\n",
       "<g id=\"edge20\" class=\"edge\"><title>18&#45;&gt;20</title>\r\n",
       "<path fill=\"none\" stroke=\"black\" d=\"M1492.35,-103.726C1496.74,-95.1527 1501.37,-86.0891 1505.79,-77.4555\"/>\r\n",
       "<polygon fill=\"black\" stroke=\"black\" points=\"1509.03,-78.7965 1510.47,-68.2996 1502.8,-75.6092 1509.03,-78.7965\"/>\r\n",
       "</g>\r\n",
       "<!-- 22 -->\r\n",
       "<g id=\"node23\" class=\"node\"><title>22</title>\r\n",
       "<path fill=\"none\" stroke=\"black\" d=\"M1732,-68C1732,-68 1635,-68 1635,-68 1629,-68 1623,-62 1623,-56 1623,-56 1623,-12 1623,-12 1623,-6 1629,-0 1635,-0 1635,-0 1732,-0 1732,-0 1738,-0 1744,-6 1744,-12 1744,-12 1744,-56 1744,-56 1744,-62 1738,-68 1732,-68\"/>\r\n",
       "<text text-anchor=\"start\" x=\"1654.5\" y=\"-52.8\" font-family=\"Helvetica,sans-Serif\" font-size=\"14.00\">gini = 0.5</text>\r\n",
       "<text text-anchor=\"start\" x=\"1632\" y=\"-37.8\" font-family=\"Helvetica,sans-Serif\" font-size=\"14.00\">samples = 0.0%</text>\r\n",
       "<text text-anchor=\"start\" x=\"1631\" y=\"-22.8\" font-family=\"Helvetica,sans-Serif\" font-size=\"14.00\">value = [0.5, 0.5]</text>\r\n",
       "<text text-anchor=\"start\" x=\"1632\" y=\"-7.8\" font-family=\"Helvetica,sans-Serif\" font-size=\"14.00\">class = Certified</text>\r\n",
       "</g>\r\n",
       "<!-- 21&#45;&gt;22 -->\r\n",
       "<g id=\"edge22\" class=\"edge\"><title>21&#45;&gt;22</title>\r\n",
       "<path fill=\"none\" stroke=\"black\" d=\"M1717.39,-103.726C1713.16,-95.1527 1708.69,-86.0891 1704.44,-77.4555\"/>\r\n",
       "<polygon fill=\"black\" stroke=\"black\" points=\"1707.48,-75.7203 1699.92,-68.2996 1701.21,-78.8164 1707.48,-75.7203\"/>\r\n",
       "</g>\r\n",
       "<!-- 23 -->\r\n",
       "<g id=\"node24\" class=\"node\"><title>23</title>\r\n",
       "<path fill=\"#e58139\" fill-opacity=\"0.952941\" stroke=\"black\" d=\"M1904.5,-68C1904.5,-68 1774.5,-68 1774.5,-68 1768.5,-68 1762.5,-62 1762.5,-56 1762.5,-56 1762.5,-12 1762.5,-12 1762.5,-6 1768.5,-0 1774.5,-0 1774.5,-0 1904.5,-0 1904.5,-0 1910.5,-0 1916.5,-6 1916.5,-12 1916.5,-12 1916.5,-56 1916.5,-56 1916.5,-62 1910.5,-68 1904.5,-68\"/>\r\n",
       "<text text-anchor=\"start\" x=\"1802\" y=\"-52.8\" font-family=\"Helvetica,sans-Serif\" font-size=\"14.00\">gini = 0.089</text>\r\n",
       "<text text-anchor=\"start\" x=\"1788\" y=\"-37.8\" font-family=\"Helvetica,sans-Serif\" font-size=\"14.00\">samples = 5.3%</text>\r\n",
       "<text text-anchor=\"start\" x=\"1770.5\" y=\"-22.8\" font-family=\"Helvetica,sans-Serif\" font-size=\"14.00\">value = [0.953, 0.047]</text>\r\n",
       "<text text-anchor=\"start\" x=\"1788\" y=\"-7.8\" font-family=\"Helvetica,sans-Serif\" font-size=\"14.00\">class = Certified</text>\r\n",
       "</g>\r\n",
       "<!-- 21&#45;&gt;23 -->\r\n",
       "<g id=\"edge23\" class=\"edge\"><title>21&#45;&gt;23</title>\r\n",
       "<path fill=\"none\" stroke=\"black\" d=\"M1775.48,-103.726C1783.98,-94.6054 1792.99,-84.93 1801.49,-75.8078\"/>\r\n",
       "<polygon fill=\"black\" stroke=\"black\" points=\"1804.23,-78.0025 1808.48,-68.2996 1799.1,-73.2312 1804.23,-78.0025\"/>\r\n",
       "</g>\r\n",
       "<!-- 25 -->\r\n",
       "<g id=\"node26\" class=\"node\"><title>25</title>\r\n",
       "<path fill=\"#e58139\" fill-opacity=\"0.964706\" stroke=\"black\" d=\"M2076.5,-187C2076.5,-187 1946.5,-187 1946.5,-187 1940.5,-187 1934.5,-181 1934.5,-175 1934.5,-175 1934.5,-116 1934.5,-116 1934.5,-110 1940.5,-104 1946.5,-104 1946.5,-104 2076.5,-104 2076.5,-104 2082.5,-104 2088.5,-110 2088.5,-116 2088.5,-116 2088.5,-175 2088.5,-175 2088.5,-181 2082.5,-187 2076.5,-187\"/>\r\n",
       "<text text-anchor=\"start\" x=\"1943.5\" y=\"-171.8\" font-family=\"Helvetica,sans-Serif\" font-size=\"14.00\">yearly_pay ≤ 96720.0</text>\r\n",
       "<text text-anchor=\"start\" x=\"1974\" y=\"-156.8\" font-family=\"Helvetica,sans-Serif\" font-size=\"14.00\">gini = 0.064</text>\r\n",
       "<text text-anchor=\"start\" x=\"1955.5\" y=\"-141.8\" font-family=\"Helvetica,sans-Serif\" font-size=\"14.00\">samples = 25.1%</text>\r\n",
       "<text text-anchor=\"start\" x=\"1942.5\" y=\"-126.8\" font-family=\"Helvetica,sans-Serif\" font-size=\"14.00\">value = [0.967, 0.033]</text>\r\n",
       "<text text-anchor=\"start\" x=\"1960\" y=\"-111.8\" font-family=\"Helvetica,sans-Serif\" font-size=\"14.00\">class = Certified</text>\r\n",
       "</g>\r\n",
       "<!-- 24&#45;&gt;25 -->\r\n",
       "<g id=\"edge25\" class=\"edge\"><title>24&#45;&gt;25</title>\r\n",
       "<path fill=\"none\" stroke=\"black\" d=\"M2011.5,-222.907C2011.5,-214.649 2011.5,-205.864 2011.5,-197.302\"/>\r\n",
       "<polygon fill=\"black\" stroke=\"black\" points=\"2015,-197.021 2011.5,-187.021 2008,-197.021 2015,-197.021\"/>\r\n",
       "</g>\r\n",
       "<!-- 28 -->\r\n",
       "<g id=\"node29\" class=\"node\"><title>28</title>\r\n",
       "<path fill=\"#399de5\" stroke=\"black\" d=\"M2216,-179.5C2216,-179.5 2119,-179.5 2119,-179.5 2113,-179.5 2107,-173.5 2107,-167.5 2107,-167.5 2107,-123.5 2107,-123.5 2107,-117.5 2113,-111.5 2119,-111.5 2119,-111.5 2216,-111.5 2216,-111.5 2222,-111.5 2228,-117.5 2228,-123.5 2228,-123.5 2228,-167.5 2228,-167.5 2228,-173.5 2222,-179.5 2216,-179.5\"/>\r\n",
       "<text text-anchor=\"start\" x=\"2138.5\" y=\"-164.3\" font-family=\"Helvetica,sans-Serif\" font-size=\"14.00\">gini = 0.0</text>\r\n",
       "<text text-anchor=\"start\" x=\"2116\" y=\"-149.3\" font-family=\"Helvetica,sans-Serif\" font-size=\"14.00\">samples = 0.0%</text>\r\n",
       "<text text-anchor=\"start\" x=\"2115\" y=\"-134.3\" font-family=\"Helvetica,sans-Serif\" font-size=\"14.00\">value = [0.0, 1.0]</text>\r\n",
       "<text text-anchor=\"start\" x=\"2120\" y=\"-119.3\" font-family=\"Helvetica,sans-Serif\" font-size=\"14.00\">class = Denied</text>\r\n",
       "</g>\r\n",
       "<!-- 24&#45;&gt;28 -->\r\n",
       "<g id=\"edge28\" class=\"edge\"><title>24&#45;&gt;28</title>\r\n",
       "<path fill=\"none\" stroke=\"black\" d=\"M2065.62,-222.907C2081.66,-210.88 2099.19,-197.735 2115.11,-185.791\"/>\r\n",
       "<polygon fill=\"black\" stroke=\"black\" points=\"2117.38,-188.467 2123.28,-179.667 2113.18,-182.867 2117.38,-188.467\"/>\r\n",
       "</g>\r\n",
       "<!-- 26 -->\r\n",
       "<g id=\"node27\" class=\"node\"><title>26</title>\r\n",
       "<path fill=\"#e58139\" fill-opacity=\"0.952941\" stroke=\"black\" d=\"M2076.5,-68C2076.5,-68 1946.5,-68 1946.5,-68 1940.5,-68 1934.5,-62 1934.5,-56 1934.5,-56 1934.5,-12 1934.5,-12 1934.5,-6 1940.5,-0 1946.5,-0 1946.5,-0 2076.5,-0 2076.5,-0 2082.5,-0 2088.5,-6 2088.5,-12 2088.5,-12 2088.5,-56 2088.5,-56 2088.5,-62 2082.5,-68 2076.5,-68\"/>\r\n",
       "<text text-anchor=\"start\" x=\"1974\" y=\"-52.8\" font-family=\"Helvetica,sans-Serif\" font-size=\"14.00\">gini = 0.083</text>\r\n",
       "<text text-anchor=\"start\" x=\"1955.5\" y=\"-37.8\" font-family=\"Helvetica,sans-Serif\" font-size=\"14.00\">samples = 14.2%</text>\r\n",
       "<text text-anchor=\"start\" x=\"1942.5\" y=\"-22.8\" font-family=\"Helvetica,sans-Serif\" font-size=\"14.00\">value = [0.957, 0.043]</text>\r\n",
       "<text text-anchor=\"start\" x=\"1960\" y=\"-7.8\" font-family=\"Helvetica,sans-Serif\" font-size=\"14.00\">class = Certified</text>\r\n",
       "</g>\r\n",
       "<!-- 25&#45;&gt;26 -->\r\n",
       "<g id=\"edge26\" class=\"edge\"><title>25&#45;&gt;26</title>\r\n",
       "<path fill=\"none\" stroke=\"black\" d=\"M2011.5,-103.726C2011.5,-95.5175 2011.5,-86.8595 2011.5,-78.56\"/>\r\n",
       "<polygon fill=\"black\" stroke=\"black\" points=\"2015,-78.2996 2011.5,-68.2996 2008,-78.2996 2015,-78.2996\"/>\r\n",
       "</g>\r\n",
       "<!-- 27 -->\r\n",
       "<g id=\"node28\" class=\"node\"><title>27</title>\r\n",
       "<path fill=\"#e58139\" fill-opacity=\"0.980392\" stroke=\"black\" d=\"M2232,-68C2232,-68 2119,-68 2119,-68 2113,-68 2107,-62 2107,-56 2107,-56 2107,-12 2107,-12 2107,-6 2113,-0 2119,-0 2119,-0 2232,-0 2232,-0 2238,-0 2244,-6 2244,-12 2244,-12 2244,-56 2244,-56 2244,-62 2238,-68 2232,-68\"/>\r\n",
       "<text text-anchor=\"start\" x=\"2138\" y=\"-52.8\" font-family=\"Helvetica,sans-Serif\" font-size=\"14.00\">gini = 0.038</text>\r\n",
       "<text text-anchor=\"start\" x=\"2119.5\" y=\"-37.8\" font-family=\"Helvetica,sans-Serif\" font-size=\"14.00\">samples = 10.9%</text>\r\n",
       "<text text-anchor=\"start\" x=\"2115\" y=\"-22.8\" font-family=\"Helvetica,sans-Serif\" font-size=\"14.00\">value = [0.98, 0.02]</text>\r\n",
       "<text text-anchor=\"start\" x=\"2124\" y=\"-7.8\" font-family=\"Helvetica,sans-Serif\" font-size=\"14.00\">class = Certified</text>\r\n",
       "</g>\r\n",
       "<!-- 25&#45;&gt;27 -->\r\n",
       "<g id=\"edge27\" class=\"edge\"><title>25&#45;&gt;27</title>\r\n",
       "<path fill=\"none\" stroke=\"black\" d=\"M2072.57,-103.726C2087.26,-93.9161 2102.91,-83.4644 2117.46,-73.7496\"/>\r\n",
       "<polygon fill=\"black\" stroke=\"black\" points=\"2119.51,-76.5889 2125.89,-68.1252 2115.63,-70.7673 2119.51,-76.5889\"/>\r\n",
       "</g>\r\n",
       "</g>\r\n",
       "</svg>\r\n"
      ],
      "text/plain": [
       "<graphviz.files.Source at 0x10ee91b0>"
      ]
     },
     "execution_count": 94,
     "metadata": {},
     "output_type": "execute_result"
    }
   ],
   "source": [
    "dot_data = tree.export_graphviz(dtc_visa_case_status, out_file=None, \n",
    "                         feature_names=list(X.columns),  \n",
    "                         class_names =['Denied' if i == 1 else 'Certified' for i in dtc_visa_case_status.classes_] ,\n",
    "                         filled=True,rounded=True,\n",
    "                         special_characters=True,\n",
    "                               proportion=True)  \n",
    "graph = graphviz.Source(dot_data)  \n",
    "graph "
   ]
  },
  {
   "cell_type": "markdown",
   "metadata": {},
   "source": [
    "This decision is a little better compared to the depth 1.\n",
    "It gives us the following insights\n",
    "* If your salary is less than 15.5K dollars and you have an Associate, Bachelor's or Doctorate degree then you are likely to be certified.\n",
    "* If your salary is between 15.5 - 16.6K dollars and you have a High School, Associate, Bachelor's, Masters or Doctorate, you are likely to be denied.\n",
    "* If you salary is between 36K - 82K dollars, then you are most likely to be certified.\n",
    "* If you are in Northeast, Midwest or South and have a salary between 82 - 97K dollars, you are most likely to be certified.\n",
    "* If you are in the west, you are most likely to be certified.\n",
    "\n",
    "\n",
    "#### Outliers\n",
    "\n",
    "Based on salary there are a few outliers we have noticed. \n",
    "* There are a few values as less as 10 dollars which is a yearly income.\n",
    "* And then there are few values as high as 64 million dollars as yearly income."
   ]
  },
  {
   "cell_type": "markdown",
   "metadata": {},
   "source": [
    "## Random Forests & SMOTE analysis"
   ]
  },
  {
   "cell_type": "markdown",
   "metadata": {},
   "source": [
    "\n",
    "### Why Random Forests?\n",
    "\n",
    "The decision tree as shown above doesn't provide a clear classification result when applied to the dataset. Although it may have a good accuracy score, there is a great chance that the data for the model is overfitted while training the model and this would mean that the model might be biased towards a specific class. This can be avoided by the use of Random Forest Classifier. A Random Forest builds a collection of several decision trees that individual predict the class of the target variable and then use a voting mechanism to determine the prediction class of the target variable  accurately. Here, we use several decision trees to make up the random forest and build the model. Thus, the overfitting of a dataset is prevented. "
   ]
  },
  {
   "cell_type": "markdown",
   "metadata": {},
   "source": [
    "### Imabalanced Dataset & How to deal with it\n",
    "\n",
    "As we are dealing with an Imbalanced dataset, it becomes tough for the classifier (either a decision tree or a random forest classifier) to properly classify the data into their respective classes.\n",
    "\n",
    "This imbalance in the dataset could be dealt with by either over-sampling the minority class or under-sampling the majority class of the dataset. We use both these types of sampling techniques and compare it with the normal classification to determine which is better and based on what factors.\n",
    "\n",
    "The algorithms chosen for these classfications are SMOTE (Synthetic Minority class Over-sampling technique), to over-sample the minority class (Denied) and Near-Miss classification in which the majority class (Certified) is undersampled to match the frequency of the minority class(Denied)."
   ]
  },
  {
   "cell_type": "code",
   "execution_count": 95,
   "metadata": {},
   "outputs": [],
   "source": [
    "from collections import Counter\n",
    "from imblearn.datasets import fetch_datasets\n",
    "from sklearn.model_selection import train_test_split\n",
    "from sklearn.pipeline import make_pipeline\n",
    "from imblearn.pipeline import make_pipeline as make_pipeline_imb\n",
    "from imblearn.over_sampling import SMOTE\n",
    "from imblearn.under_sampling import NearMiss\n",
    "from imblearn.metrics import classification_report_imbalanced\n",
    "from sklearn.metrics import precision_score, recall_score, f1_score, roc_auc_score, accuracy_score, classification_report\n",
    "from sklearn.ensemble import RandomForestClassifier\n",
    "import numpy as np"
   ]
  },
  {
   "cell_type": "code",
   "execution_count": 96,
   "metadata": {},
   "outputs": [],
   "source": [
    "def print_results(headline, true_value, pred):\n",
    "    print(headline)\n",
    "    print(\"accuracy: {}\".format(accuracy_score(true_value, pred)))\n",
    "    print(\"precision: {}\".format(precision_score(true_value, pred)))\n",
    "    print(\"recall: {}\".format(recall_score(true_value, pred)))\n",
    "    print(\"f1: {}\".format(f1_score(true_value, pred)))"
   ]
  },
  {
   "cell_type": "code",
   "execution_count": 97,
   "metadata": {},
   "outputs": [],
   "source": [
    "visa_SMOTE = visa.drop(['case_status'],axis=1)"
   ]
  },
  {
   "cell_type": "code",
   "execution_count": 98,
   "metadata": {},
   "outputs": [
    {
     "name": "stdout",
     "output_type": "stream",
     "text": [
      "\n",
      "normal data distribution: Counter({0: 11147, 1: 1040})\n",
      "SMOTE data distribution: Counter({0: 11147, 1: 11147})\n",
      "NearMiss data distribution: Counter({0: 1040, 1: 1040})\n",
      "             precision    recall  f1-score   support\n",
      "\n",
      "          0       0.92      0.98      0.95      2761\n",
      "          1       0.38      0.13      0.19       286\n",
      "\n",
      "avg / total       0.87      0.90      0.88      3047\n",
      "\n",
      "                   pre       rec       spe        f1       geo       iba       sup\n",
      "\n",
      "          0       0.92      0.95      0.19      0.93      0.42      0.19      2761\n",
      "          1       0.28      0.19      0.95      0.23      0.42      0.17       286\n",
      "\n",
      "avg / total       0.86      0.88      0.26      0.87      0.42      0.19      3047\n",
      "\n",
      "\n",
      "normal Pipeline Score 0.8989169675090253\n",
      "SMOTE Pipeline Score 0.8792254676731212\n",
      "NearMiss Pipeline Score 0.3386937971775517\n",
      "\n",
      "normal classification\n",
      "accuracy: 0.8989169675090253\n",
      "precision: 0.3829787234042553\n",
      "recall: 0.1258741258741259\n",
      "f1: 0.18947368421052632\n",
      "\n",
      "SMOTE classification\n",
      "accuracy: 0.8792254676731212\n",
      "precision: 0.28421052631578947\n",
      "recall: 0.1888111888111888\n",
      "f1: 0.226890756302521\n",
      "\n",
      "NearMiss classification\n",
      "accuracy: 0.3386937971775517\n",
      "precision: 0.09921186833565136\n",
      "recall: 0.7482517482517482\n",
      "f1: 0.17519443307408925\n"
     ]
    }
   ],
   "source": [
    "# our classifier to use\n",
    "classifier = RandomForestClassifier\n",
    "\n",
    "# splitting data into training and test set\n",
    "X_train, X_test, y_train, y_test = train_test_split(visa.drop(['case_status'],axis=1), visa['case_status'], random_state=2)\n",
    "\n",
    "\n",
    "# build normal model\n",
    "pipeline = make_pipeline(classifier(random_state=42))\n",
    "model = pipeline.fit(X_train, y_train)\n",
    "prediction = model.predict(X_test)\n",
    "\n",
    "# build model with SMOTE imblearn\n",
    "smote_pipeline = make_pipeline_imb(SMOTE(random_state=4), classifier(random_state=42))\n",
    "smote_model = smote_pipeline.fit(X_train, y_train)\n",
    "smote_prediction = smote_model.predict(X_test)\n",
    "\n",
    "# build model with undersampling\n",
    "nearmiss_pipeline = make_pipeline_imb(NearMiss(random_state=4), classifier(random_state=42))\n",
    "nearmiss_model = nearmiss_pipeline.fit(X_train, y_train)\n",
    "nearmiss_prediction = nearmiss_model.predict(X_test)\n",
    "\n",
    "\n",
    "# print information about both models\n",
    "print()\n",
    "print(\"normal data distribution: {}\".format(Counter(visa['case_status'])))\n",
    "X_smote, y_smote = SMOTE().fit_sample(visa_SMOTE, visa['case_status'])\n",
    "print(\"SMOTE data distribution: {}\".format(Counter(y_smote)))\n",
    "X_nearmiss, y_nearmiss = NearMiss().fit_sample(visa_SMOTE, visa['case_status'])\n",
    "print(\"NearMiss data distribution: {}\".format(Counter(y_nearmiss)))\n",
    "\n",
    "# classification report\n",
    "print(classification_report(y_test, prediction))\n",
    "print(classification_report_imbalanced(y_test, smote_prediction))\n",
    "\n",
    "print()\n",
    "print('normal Pipeline Score {}'.format(pipeline.score(X_test, y_test)))\n",
    "print('SMOTE Pipeline Score {}'.format(smote_pipeline.score(X_test, y_test)))\n",
    "print('NearMiss Pipeline Score {}'.format(nearmiss_pipeline.score(X_test, y_test)))\n",
    "\n",
    "\n",
    "print()\n",
    "print_results(\"normal classification\", y_test, prediction)\n",
    "print()\n",
    "print_results(\"SMOTE classification\", y_test, smote_prediction)\n",
    "print()\n",
    "print_results(\"NearMiss classification\", y_test, nearmiss_prediction)"
   ]
  },
  {
   "cell_type": "markdown",
   "metadata": {
    "collapsed": true
   },
   "source": [
    "### Analysis of the Results :\n",
    "\n",
    "By analysis of the results it is understood that although the classification of the un-sampled model has a better accuracy than the other sampled models the Recall and F1 scores are pretty low. This is due to the nature of the dataset which is imbalanced. \n",
    " * The precision is the ratio `tp / (tp + fp)` where `tp` is the number of true positives and `fp` the number of false positives. The precision is intuitively the ability of the classifier not to label as positive a sample that is negative.\n",
    " * Recall is the ratio `tp / (tp + fn)` where `fn` the number of false negatives. The Recall is intuitively the ability of the classifier to find all the positive samples. \n",
    " * The F1 score can be interpreted as a weighted harmonic mean of the precision and recall with 1 = best and 0 = worst. `f1` means that recall and precision have equal weight.\n",
    "\n",
    "The SMOTE classification has the best values for Recall and F1 scores. Based on the results, the Recall value for the normal classification is very low which means that the classifier is unable to determine the class of the target variable properly. This might be due to the lesser number of records for the 'Denied' class which affects the decision making of the classifier. The Recall values of the SMOTE analysis is better because there are larger samples of data for the minority class, so the classifier does a better job at predicitng the target class correctly. Near Miss classification has a higher Recall score but the precesion of the classification is appalling, as the total number of samples is significantly reduced due to under-sampling.\n",
    "\n",
    "Another reason for the low scores even after applying SMOTE Analysis could be that the dataset after cleaning and filtering for F-1 visa applications has lower number of records. With a larger number of records the scores will show further improvement.\n",
    "\n",
    "\n",
    "Reference:\n",
    "- http://scikit-learn.org/stable/modules/generated/sklearn.metrics.precision_recall_fscore_support.html\n",
    "\n",
    "- https://www.youtube.com/watch?v=DQC_YE3I5ig\n",
    "\n",
    "- https://www.youtube.com/watch?v=FheTDyCwRdE\n",
    "\n",
    "- https://github.com/coding-maniac/over-under-sampling/blob/master/src/main.py\n",
    "\n",
    "--------------"
   ]
  },
  {
   "cell_type": "markdown",
   "metadata": {
    "collapsed": true
   },
   "source": [
    "## Conclusion\n",
    "\n",
    "Most of the Certified applicants:\n",
    "* Stayed in California\n",
    "* Work in the IT sector\n",
    "* Have atleast a Bachelor's Degree\n",
    "* General salary Range 60 - 120K dollars\n",
    "\n",
    "In conclusion, there is not one feature/factor/attribute which acts as a deciding factor in either Certifying or Denying a permanent visa application.\n",
    "There are additional features which might play a significant role in determining the outcome of a visa application (below mentioned in future roadmap).\n",
    "\n",
    "\n",
    "----------------\n",
    "\n",
    "\n",
    "## Roadmap for the Future\n",
    "\n",
    "Based on the Analysis of the data, a few elements could be improved as the model training part of the analysis was severly affected by the imbalanced nature of the dataset.\n",
    "\n",
    "* More Features\n",
    "    - Based on the above analysis of the permanent visa applications, we understand that there might be several reasons which play a significant role in determining if the application would be 'Certified' or 'Denied'. These might include but not be limited to Criminal History, Credit Score, Tax Returns and even the Visa Interview. So, in addition to all the factors taken into consideration such as the employer details, salary details, year of application etc. external factors also need to be considered to accurately determine if the application is 'Certified' or 'Denied'. This would mean that more data in form of features would help any model be trained better.\n",
    "\n",
    "\n",
    "* GridSearch & XGBoost\n",
    "    - The supervised learning methods used, could not properly classify the minority class of the dataset which was the 'Denied' application data. This was mainly due to the imbalanced nature of the dataset and hence, the decision tree could not properly classify the dataset based on the features provided. Although the F1 and recall scores had improved by the use of SMOTE analysis, it is an appalling value for a model to have. This still has lot of room for improvement and techniques such as GridSearch, to select the best features or even the best classification technique to build the model, could be used for building a better model which would have better F1 and recall scores maintaining the accuracy and precision of the current models. \n",
    "    \n",
    "    - XGBoost as a model could be used to improve the performance of the model as it employs an ensemble of decision trees and improves its decision over each iteration of individual decision trees.\n",
    "\n",
    "-----------"
   ]
  }
 ],
 "metadata": {
  "kernelspec": {
   "display_name": "Python 3",
   "language": "python",
   "name": "python3"
  },
  "language_info": {
   "codemirror_mode": {
    "name": "ipython",
    "version": 3
   },
   "file_extension": ".py",
   "mimetype": "text/x-python",
   "name": "python",
   "nbconvert_exporter": "python",
   "pygments_lexer": "ipython3",
   "version": "3.6.4"
  }
 },
 "nbformat": 4,
 "nbformat_minor": 2
}
